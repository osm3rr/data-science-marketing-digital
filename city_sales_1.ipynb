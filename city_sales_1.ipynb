{
 "cells": [
  {
   "cell_type": "markdown",
   "metadata": {},
   "source": [
    "# 1. Which is the city that sells the most?"
   ]
  },
  {
   "cell_type": "code",
   "execution_count": 2,
   "metadata": {},
   "outputs": [],
   "source": [
    "# required modules\n",
    "import pandas as pd\n",
    "import matplotlib.pyplot as plt\n",
    "import numpy as np\n",
    "from datetime import datetime, timedelta\n",
    "import matplotlib.pyplot as plt\n"
   ]
  },
  {
   "cell_type": "code",
   "execution_count": 3,
   "metadata": {},
   "outputs": [],
   "source": [
    "# read the user dataset\n",
    "df_users = pd.read_csv('users_data.csv')"
   ]
  },
  {
   "cell_type": "code",
   "execution_count": 4,
   "metadata": {},
   "outputs": [
    {
     "data": {
      "text/html": [
       "<div>\n",
       "<style scoped>\n",
       "    .dataframe tbody tr th:only-of-type {\n",
       "        vertical-align: middle;\n",
       "    }\n",
       "\n",
       "    .dataframe tbody tr th {\n",
       "        vertical-align: top;\n",
       "    }\n",
       "\n",
       "    .dataframe thead th {\n",
       "        text-align: right;\n",
       "    }\n",
       "</style>\n",
       "<table border=\"1\" class=\"dataframe\">\n",
       "  <thead>\n",
       "    <tr style=\"text-align: right;\">\n",
       "      <th></th>\n",
       "      <th>usuario</th>\n",
       "      <th>genero</th>\n",
       "      <th>edad</th>\n",
       "      <th>ciudad</th>\n",
       "      <th>gasto_mes</th>\n",
       "      <th>miembro_plus</th>\n",
       "      <th>dispositivo</th>\n",
       "      <th>tiempo_mes</th>\n",
       "    </tr>\n",
       "  </thead>\n",
       "  <tbody>\n",
       "    <tr>\n",
       "      <th>0</th>\n",
       "      <td>1</td>\n",
       "      <td>Mujer</td>\n",
       "      <td>21</td>\n",
       "      <td>Valladolid</td>\n",
       "      <td>483.81</td>\n",
       "      <td>0</td>\n",
       "      <td>PC</td>\n",
       "      <td>3.30</td>\n",
       "    </tr>\n",
       "    <tr>\n",
       "      <th>1</th>\n",
       "      <td>2</td>\n",
       "      <td>Mujer</td>\n",
       "      <td>45</td>\n",
       "      <td>Valladolid</td>\n",
       "      <td>186.30</td>\n",
       "      <td>1</td>\n",
       "      <td>PC</td>\n",
       "      <td>6.60</td>\n",
       "    </tr>\n",
       "    <tr>\n",
       "      <th>2</th>\n",
       "      <td>3</td>\n",
       "      <td>Mujer</td>\n",
       "      <td>64</td>\n",
       "      <td>Murcia</td>\n",
       "      <td>396.03</td>\n",
       "      <td>0</td>\n",
       "      <td>PC</td>\n",
       "      <td>2.09</td>\n",
       "    </tr>\n",
       "  </tbody>\n",
       "</table>\n",
       "</div>"
      ],
      "text/plain": [
       "   usuario genero  edad      ciudad  gasto_mes  miembro_plus dispositivo  \\\n",
       "0        1  Mujer    21  Valladolid     483.81             0          PC   \n",
       "1        2  Mujer    45  Valladolid     186.30             1          PC   \n",
       "2        3  Mujer    64      Murcia     396.03             0          PC   \n",
       "\n",
       "   tiempo_mes  \n",
       "0        3.30  \n",
       "1        6.60  \n",
       "2        2.09  "
      ]
     },
     "execution_count": 4,
     "metadata": {},
     "output_type": "execute_result"
    }
   ],
   "source": [
    "df_users.head(3)"
   ]
  },
  {
   "cell_type": "code",
   "execution_count": 5,
   "metadata": {},
   "outputs": [
    {
     "name": "stdout",
     "output_type": "stream",
     "text": [
      "Users shape: (500, 8)\n"
     ]
    }
   ],
   "source": [
    "print(f'Users shape: {df_users.shape}')"
   ]
  },
  {
   "cell_type": "code",
   "execution_count": 6,
   "metadata": {},
   "outputs": [],
   "source": [
    "# read the user dataset\n",
    "df_sales = pd.read_csv('sales_data.csv')"
   ]
  },
  {
   "cell_type": "code",
   "execution_count": 7,
   "metadata": {},
   "outputs": [
    {
     "data": {
      "text/html": [
       "<div>\n",
       "<style scoped>\n",
       "    .dataframe tbody tr th:only-of-type {\n",
       "        vertical-align: middle;\n",
       "    }\n",
       "\n",
       "    .dataframe tbody tr th {\n",
       "        vertical-align: top;\n",
       "    }\n",
       "\n",
       "    .dataframe thead th {\n",
       "        text-align: right;\n",
       "    }\n",
       "</style>\n",
       "<table border=\"1\" class=\"dataframe\">\n",
       "  <thead>\n",
       "    <tr style=\"text-align: right;\">\n",
       "      <th></th>\n",
       "      <th>usuario</th>\n",
       "      <th>categorias</th>\n",
       "      <th>numero_articulos</th>\n",
       "      <th>fecha</th>\n",
       "      <th>precio</th>\n",
       "      <th>valoracion</th>\n",
       "      <th>comentarios</th>\n",
       "      <th>proveedores</th>\n",
       "    </tr>\n",
       "  </thead>\n",
       "  <tbody>\n",
       "    <tr>\n",
       "      <th>0</th>\n",
       "      <td>92</td>\n",
       "      <td>Baño</td>\n",
       "      <td>8</td>\n",
       "      <td>2019-03-27 21:08:33.786039</td>\n",
       "      <td>343.53</td>\n",
       "      <td>0.5</td>\n",
       "      <td>no llego el producto</td>\n",
       "      <td>KH7</td>\n",
       "    </tr>\n",
       "    <tr>\n",
       "      <th>1</th>\n",
       "      <td>265</td>\n",
       "      <td>Baño</td>\n",
       "      <td>6</td>\n",
       "      <td>2019-08-08 15:19:19.873440</td>\n",
       "      <td>78.43</td>\n",
       "      <td>3.7</td>\n",
       "      <td>justo lo que esperaba</td>\n",
       "      <td>KH7</td>\n",
       "    </tr>\n",
       "    <tr>\n",
       "      <th>2</th>\n",
       "      <td>106</td>\n",
       "      <td>Baño</td>\n",
       "      <td>7</td>\n",
       "      <td>2020-11-10 18:56:30.101786</td>\n",
       "      <td>446.09</td>\n",
       "      <td>2.4</td>\n",
       "      <td>no llego en tiempo</td>\n",
       "      <td>Cristasol</td>\n",
       "    </tr>\n",
       "  </tbody>\n",
       "</table>\n",
       "</div>"
      ],
      "text/plain": [
       "   usuario categorias  numero_articulos                       fecha  precio  \\\n",
       "0       92       Baño                 8  2019-03-27 21:08:33.786039  343.53   \n",
       "1      265       Baño                 6  2019-08-08 15:19:19.873440   78.43   \n",
       "2      106       Baño                 7  2020-11-10 18:56:30.101786  446.09   \n",
       "\n",
       "   valoracion            comentarios proveedores  \n",
       "0         0.5   no llego el producto         KH7  \n",
       "1         3.7  justo lo que esperaba         KH7  \n",
       "2         2.4     no llego en tiempo   Cristasol  "
      ]
     },
     "execution_count": 7,
     "metadata": {},
     "output_type": "execute_result"
    }
   ],
   "source": [
    "df_sales.head(3)"
   ]
  },
  {
   "cell_type": "code",
   "execution_count": 8,
   "metadata": {},
   "outputs": [
    {
     "name": "stdout",
     "output_type": "stream",
     "text": [
      "Forma de las ventas: (10000, 8) \n"
     ]
    }
   ],
   "source": [
    "print(f'Forma de las ventas: {df_sales.shape} ')"
   ]
  },
  {
   "cell_type": "code",
   "execution_count": 9,
   "metadata": {},
   "outputs": [],
   "source": [
    "# df with users and city\n",
    "df_city = df_users[[ 'usuario', 'ciudad' ]]\n"
   ]
  },
  {
   "cell_type": "code",
   "execution_count": 10,
   "metadata": {},
   "outputs": [],
   "source": [
    "df4 = df_sales.copy()"
   ]
  },
  {
   "cell_type": "code",
   "execution_count": 11,
   "metadata": {},
   "outputs": [],
   "source": [
    "# set_index('usuario').join(df_city.set_index('usuario'))\n",
    "df4 = df4.set_index('usuario').join( df_city.set_index('usuario') )\n",
    "#print(f'df4 shape: {df4.shape}')"
   ]
  },
  {
   "cell_type": "code",
   "execution_count": 12,
   "metadata": {},
   "outputs": [
    {
     "name": "stdout",
     "output_type": "stream",
     "text": [
      "df4 shape: (10000, 8)\n"
     ]
    }
   ],
   "source": [
    "print(f'df4 shape: {df4.shape}')"
   ]
  },
  {
   "cell_type": "code",
   "execution_count": 13,
   "metadata": {},
   "outputs": [],
   "source": [
    "df5 = df4.reset_index();"
   ]
  },
  {
   "cell_type": "code",
   "execution_count": 14,
   "metadata": {},
   "outputs": [
    {
     "data": {
      "text/html": [
       "<div>\n",
       "<style scoped>\n",
       "    .dataframe tbody tr th:only-of-type {\n",
       "        vertical-align: middle;\n",
       "    }\n",
       "\n",
       "    .dataframe tbody tr th {\n",
       "        vertical-align: top;\n",
       "    }\n",
       "\n",
       "    .dataframe thead th {\n",
       "        text-align: right;\n",
       "    }\n",
       "</style>\n",
       "<table border=\"1\" class=\"dataframe\">\n",
       "  <thead>\n",
       "    <tr style=\"text-align: right;\">\n",
       "      <th></th>\n",
       "      <th>usuario</th>\n",
       "      <th>categorias</th>\n",
       "      <th>numero_articulos</th>\n",
       "      <th>fecha</th>\n",
       "      <th>precio</th>\n",
       "      <th>valoracion</th>\n",
       "      <th>comentarios</th>\n",
       "      <th>proveedores</th>\n",
       "      <th>ciudad</th>\n",
       "    </tr>\n",
       "  </thead>\n",
       "  <tbody>\n",
       "    <tr>\n",
       "      <th>0</th>\n",
       "      <td>1</td>\n",
       "      <td>Cocina</td>\n",
       "      <td>2</td>\n",
       "      <td>2019-11-30 13:17:43.023114</td>\n",
       "      <td>112.28</td>\n",
       "      <td>2.7</td>\n",
       "      <td>me gusto</td>\n",
       "      <td>Flora</td>\n",
       "      <td>Valladolid</td>\n",
       "    </tr>\n",
       "    <tr>\n",
       "      <th>1</th>\n",
       "      <td>1</td>\n",
       "      <td>Baño</td>\n",
       "      <td>6</td>\n",
       "      <td>2020-07-07 16:23:03.531212</td>\n",
       "      <td>479.51</td>\n",
       "      <td>1.7</td>\n",
       "      <td>la calidad no es la esperada</td>\n",
       "      <td>Don limpio</td>\n",
       "      <td>Valladolid</td>\n",
       "    </tr>\n",
       "    <tr>\n",
       "      <th>2</th>\n",
       "      <td>1</td>\n",
       "      <td>Baño</td>\n",
       "      <td>6</td>\n",
       "      <td>2019-01-09 10:04:02.121072</td>\n",
       "      <td>459.00</td>\n",
       "      <td>4.8</td>\n",
       "      <td>justo lo que esperaba</td>\n",
       "      <td>Cristasol</td>\n",
       "      <td>Valladolid</td>\n",
       "    </tr>\n",
       "  </tbody>\n",
       "</table>\n",
       "</div>"
      ],
      "text/plain": [
       "   usuario categorias  numero_articulos                       fecha  precio  \\\n",
       "0        1     Cocina                 2  2019-11-30 13:17:43.023114  112.28   \n",
       "1        1       Baño                 6  2020-07-07 16:23:03.531212  479.51   \n",
       "2        1       Baño                 6  2019-01-09 10:04:02.121072  459.00   \n",
       "\n",
       "   valoracion                    comentarios proveedores      ciudad  \n",
       "0         2.7                       me gusto       Flora  Valladolid  \n",
       "1         1.7   la calidad no es la esperada  Don limpio  Valladolid  \n",
       "2         4.8          justo lo que esperaba   Cristasol  Valladolid  "
      ]
     },
     "execution_count": 14,
     "metadata": {},
     "output_type": "execute_result"
    }
   ],
   "source": [
    "df5.head(3)\n"
   ]
  },
  {
   "cell_type": "code",
   "execution_count": 15,
   "metadata": {},
   "outputs": [
    {
     "name": "stdout",
     "output_type": "stream",
     "text": [
      "<class 'pandas.core.frame.DataFrame'>\n",
      "RangeIndex: 10000 entries, 0 to 9999\n",
      "Data columns (total 9 columns):\n",
      " #   Column            Non-Null Count  Dtype  \n",
      "---  ------            --------------  -----  \n",
      " 0   usuario           10000 non-null  int64  \n",
      " 1   categorias        10000 non-null  object \n",
      " 2   numero_articulos  10000 non-null  int64  \n",
      " 3   fecha             10000 non-null  object \n",
      " 4   precio            10000 non-null  float64\n",
      " 5   valoracion        10000 non-null  float64\n",
      " 6   comentarios       10000 non-null  object \n",
      " 7   proveedores       10000 non-null  object \n",
      " 8   ciudad            10000 non-null  object \n",
      "dtypes: float64(2), int64(2), object(5)\n",
      "memory usage: 703.2+ KB\n"
     ]
    }
   ],
   "source": [
    "df5.info()"
   ]
  },
  {
   "cell_type": "code",
   "execution_count": 16,
   "metadata": {},
   "outputs": [],
   "source": [
    "df5['fecha'] = pd.to_datetime(df5['fecha'])"
   ]
  },
  {
   "cell_type": "code",
   "execution_count": 17,
   "metadata": {},
   "outputs": [],
   "source": [
    "df5['fecha'] = df5['fecha'].dt.strftime(\"%Y/%m/%d\")"
   ]
  },
  {
   "cell_type": "code",
   "execution_count": 37,
   "metadata": {},
   "outputs": [
    {
     "data": {
      "text/html": [
       "<div>\n",
       "<style scoped>\n",
       "    .dataframe tbody tr th:only-of-type {\n",
       "        vertical-align: middle;\n",
       "    }\n",
       "\n",
       "    .dataframe tbody tr th {\n",
       "        vertical-align: top;\n",
       "    }\n",
       "\n",
       "    .dataframe thead th {\n",
       "        text-align: right;\n",
       "    }\n",
       "</style>\n",
       "<table border=\"1\" class=\"dataframe\">\n",
       "  <thead>\n",
       "    <tr style=\"text-align: right;\">\n",
       "      <th></th>\n",
       "      <th>usuario</th>\n",
       "      <th>categorias</th>\n",
       "      <th>numero_articulos</th>\n",
       "      <th>fecha</th>\n",
       "      <th>precio</th>\n",
       "      <th>valoracion</th>\n",
       "      <th>comentarios</th>\n",
       "      <th>proveedores</th>\n",
       "      <th>ciudad</th>\n",
       "    </tr>\n",
       "  </thead>\n",
       "  <tbody>\n",
       "    <tr>\n",
       "      <th>0</th>\n",
       "      <td>1</td>\n",
       "      <td>Cocina</td>\n",
       "      <td>2</td>\n",
       "      <td>Otoño</td>\n",
       "      <td>112.28</td>\n",
       "      <td>2.7</td>\n",
       "      <td>me gusto</td>\n",
       "      <td>Flora</td>\n",
       "      <td>Valladolid</td>\n",
       "    </tr>\n",
       "    <tr>\n",
       "      <th>1</th>\n",
       "      <td>1</td>\n",
       "      <td>Baño</td>\n",
       "      <td>6</td>\n",
       "      <td>Verano</td>\n",
       "      <td>479.51</td>\n",
       "      <td>1.7</td>\n",
       "      <td>la calidad no es la esperada</td>\n",
       "      <td>Don limpio</td>\n",
       "      <td>Valladolid</td>\n",
       "    </tr>\n",
       "    <tr>\n",
       "      <th>2</th>\n",
       "      <td>1</td>\n",
       "      <td>Baño</td>\n",
       "      <td>6</td>\n",
       "      <td>Primavera</td>\n",
       "      <td>459.00</td>\n",
       "      <td>4.8</td>\n",
       "      <td>justo lo que esperaba</td>\n",
       "      <td>Cristasol</td>\n",
       "      <td>Valladolid</td>\n",
       "    </tr>\n",
       "    <tr>\n",
       "      <th>3</th>\n",
       "      <td>1</td>\n",
       "      <td>Zapatos</td>\n",
       "      <td>3</td>\n",
       "      <td>Otoño</td>\n",
       "      <td>435.76</td>\n",
       "      <td>3.7</td>\n",
       "      <td>justo lo que esperaba</td>\n",
       "      <td>New balance</td>\n",
       "      <td>Valladolid</td>\n",
       "    </tr>\n",
       "    <tr>\n",
       "      <th>4</th>\n",
       "      <td>1</td>\n",
       "      <td>Hogar</td>\n",
       "      <td>8</td>\n",
       "      <td>Primavera</td>\n",
       "      <td>410.19</td>\n",
       "      <td>2.9</td>\n",
       "      <td>llego justo a tiempo</td>\n",
       "      <td>Vileda</td>\n",
       "      <td>Valladolid</td>\n",
       "    </tr>\n",
       "    <tr>\n",
       "      <th>5</th>\n",
       "      <td>1</td>\n",
       "      <td>Ropa</td>\n",
       "      <td>1</td>\n",
       "      <td>Verano</td>\n",
       "      <td>403.81</td>\n",
       "      <td>0.5</td>\n",
       "      <td>muy malo</td>\n",
       "      <td>Roxy</td>\n",
       "      <td>Valladolid</td>\n",
       "    </tr>\n",
       "    <tr>\n",
       "      <th>6</th>\n",
       "      <td>1</td>\n",
       "      <td>Juguetes</td>\n",
       "      <td>1</td>\n",
       "      <td>Otoño</td>\n",
       "      <td>110.26</td>\n",
       "      <td>0.2</td>\n",
       "      <td>muy malo</td>\n",
       "      <td>Lego</td>\n",
       "      <td>Valladolid</td>\n",
       "    </tr>\n",
       "    <tr>\n",
       "      <th>7</th>\n",
       "      <td>1</td>\n",
       "      <td>Cocina</td>\n",
       "      <td>4</td>\n",
       "      <td>Primavera</td>\n",
       "      <td>184.53</td>\n",
       "      <td>4.8</td>\n",
       "      <td>muy bueno!</td>\n",
       "      <td>Oscar mayer</td>\n",
       "      <td>Valladolid</td>\n",
       "    </tr>\n",
       "    <tr>\n",
       "      <th>8</th>\n",
       "      <td>1</td>\n",
       "      <td>Ferreteria</td>\n",
       "      <td>2</td>\n",
       "      <td>Primavera</td>\n",
       "      <td>103.69</td>\n",
       "      <td>3.9</td>\n",
       "      <td>muy bueno!</td>\n",
       "      <td>3M</td>\n",
       "      <td>Valladolid</td>\n",
       "    </tr>\n",
       "    <tr>\n",
       "      <th>9</th>\n",
       "      <td>1</td>\n",
       "      <td>Ropa</td>\n",
       "      <td>3</td>\n",
       "      <td>Verano</td>\n",
       "      <td>110.48</td>\n",
       "      <td>4.6</td>\n",
       "      <td>buena relacion calidad-precio</td>\n",
       "      <td>Levis</td>\n",
       "      <td>Valladolid</td>\n",
       "    </tr>\n",
       "    <tr>\n",
       "      <th>10</th>\n",
       "      <td>1</td>\n",
       "      <td>Deporte</td>\n",
       "      <td>4</td>\n",
       "      <td>Otoño</td>\n",
       "      <td>5.55</td>\n",
       "      <td>2.8</td>\n",
       "      <td>cumple las expectativas</td>\n",
       "      <td>Under Armour</td>\n",
       "      <td>Valladolid</td>\n",
       "    </tr>\n",
       "    <tr>\n",
       "      <th>11</th>\n",
       "      <td>1</td>\n",
       "      <td>Cocina</td>\n",
       "      <td>2</td>\n",
       "      <td>Otoño</td>\n",
       "      <td>57.60</td>\n",
       "      <td>1.8</td>\n",
       "      <td>el paquete llego en mal estado</td>\n",
       "      <td>Oscar mayer</td>\n",
       "      <td>Valladolid</td>\n",
       "    </tr>\n",
       "    <tr>\n",
       "      <th>12</th>\n",
       "      <td>1</td>\n",
       "      <td>Cocina</td>\n",
       "      <td>4</td>\n",
       "      <td>Primavera</td>\n",
       "      <td>183.22</td>\n",
       "      <td>4.0</td>\n",
       "      <td>buena relacion calidad-precio</td>\n",
       "      <td>Flora</td>\n",
       "      <td>Valladolid</td>\n",
       "    </tr>\n",
       "    <tr>\n",
       "      <th>13</th>\n",
       "      <td>1</td>\n",
       "      <td>Electronica</td>\n",
       "      <td>10</td>\n",
       "      <td>Primavera</td>\n",
       "      <td>258.73</td>\n",
       "      <td>0.6</td>\n",
       "      <td>no cumple las expectativas</td>\n",
       "      <td>Apple</td>\n",
       "      <td>Valladolid</td>\n",
       "    </tr>\n",
       "    <tr>\n",
       "      <th>14</th>\n",
       "      <td>1</td>\n",
       "      <td>Electronica</td>\n",
       "      <td>9</td>\n",
       "      <td>Otoño</td>\n",
       "      <td>393.63</td>\n",
       "      <td>1.2</td>\n",
       "      <td>no cumple las expectativas</td>\n",
       "      <td>Samsumg</td>\n",
       "      <td>Valladolid</td>\n",
       "    </tr>\n",
       "    <tr>\n",
       "      <th>15</th>\n",
       "      <td>1</td>\n",
       "      <td>Cocina</td>\n",
       "      <td>2</td>\n",
       "      <td>Primavera</td>\n",
       "      <td>59.97</td>\n",
       "      <td>2.7</td>\n",
       "      <td>llego justo a tiempo</td>\n",
       "      <td>Flora</td>\n",
       "      <td>Valladolid</td>\n",
       "    </tr>\n",
       "    <tr>\n",
       "      <th>16</th>\n",
       "      <td>1</td>\n",
       "      <td>Deporte</td>\n",
       "      <td>1</td>\n",
       "      <td>Verano</td>\n",
       "      <td>340.22</td>\n",
       "      <td>5.0</td>\n",
       "      <td>justo lo que esperaba</td>\n",
       "      <td>Adidas</td>\n",
       "      <td>Valladolid</td>\n",
       "    </tr>\n",
       "    <tr>\n",
       "      <th>17</th>\n",
       "      <td>1</td>\n",
       "      <td>Libros</td>\n",
       "      <td>2</td>\n",
       "      <td>Primavera</td>\n",
       "      <td>207.94</td>\n",
       "      <td>1.3</td>\n",
       "      <td>no cumple las expectativas</td>\n",
       "      <td>Ediciones Tomodomo</td>\n",
       "      <td>Valladolid</td>\n",
       "    </tr>\n",
       "    <tr>\n",
       "      <th>18</th>\n",
       "      <td>1</td>\n",
       "      <td>Libros</td>\n",
       "      <td>10</td>\n",
       "      <td>Primavera</td>\n",
       "      <td>461.63</td>\n",
       "      <td>0.5</td>\n",
       "      <td>no llego el producto</td>\n",
       "      <td>Ediciones Tomodomo</td>\n",
       "      <td>Valladolid</td>\n",
       "    </tr>\n",
       "    <tr>\n",
       "      <th>19</th>\n",
       "      <td>2</td>\n",
       "      <td>Hogar</td>\n",
       "      <td>9</td>\n",
       "      <td>Primavera</td>\n",
       "      <td>275.93</td>\n",
       "      <td>0.7</td>\n",
       "      <td>no llego el producto</td>\n",
       "      <td>Colgate - palmolive</td>\n",
       "      <td>Valladolid</td>\n",
       "    </tr>\n",
       "  </tbody>\n",
       "</table>\n",
       "</div>"
      ],
      "text/plain": [
       "    usuario   categorias  numero_articulos      fecha  precio  valoracion  \\\n",
       "0         1       Cocina                 2      Otoño  112.28         2.7   \n",
       "1         1         Baño                 6     Verano  479.51         1.7   \n",
       "2         1         Baño                 6  Primavera  459.00         4.8   \n",
       "3         1      Zapatos                 3      Otoño  435.76         3.7   \n",
       "4         1        Hogar                 8  Primavera  410.19         2.9   \n",
       "5         1         Ropa                 1     Verano  403.81         0.5   \n",
       "6         1     Juguetes                 1      Otoño  110.26         0.2   \n",
       "7         1       Cocina                 4  Primavera  184.53         4.8   \n",
       "8         1   Ferreteria                 2  Primavera  103.69         3.9   \n",
       "9         1         Ropa                 3     Verano  110.48         4.6   \n",
       "10        1      Deporte                 4      Otoño    5.55         2.8   \n",
       "11        1       Cocina                 2      Otoño   57.60         1.8   \n",
       "12        1       Cocina                 4  Primavera  183.22         4.0   \n",
       "13        1  Electronica                10  Primavera  258.73         0.6   \n",
       "14        1  Electronica                 9      Otoño  393.63         1.2   \n",
       "15        1       Cocina                 2  Primavera   59.97         2.7   \n",
       "16        1      Deporte                 1     Verano  340.22         5.0   \n",
       "17        1       Libros                 2  Primavera  207.94         1.3   \n",
       "18        1       Libros                10  Primavera  461.63         0.5   \n",
       "19        2        Hogar                 9  Primavera  275.93         0.7   \n",
       "\n",
       "                       comentarios          proveedores      ciudad  \n",
       "0                         me gusto                Flora  Valladolid  \n",
       "1     la calidad no es la esperada           Don limpio  Valladolid  \n",
       "2            justo lo que esperaba            Cristasol  Valladolid  \n",
       "3            justo lo que esperaba          New balance  Valladolid  \n",
       "4             llego justo a tiempo               Vileda  Valladolid  \n",
       "5                         muy malo                 Roxy  Valladolid  \n",
       "6                         muy malo                 Lego  Valladolid  \n",
       "7                       muy bueno!          Oscar mayer  Valladolid  \n",
       "8                       muy bueno!                   3M  Valladolid  \n",
       "9    buena relacion calidad-precio                Levis  Valladolid  \n",
       "10         cumple las expectativas         Under Armour  Valladolid  \n",
       "11  el paquete llego en mal estado          Oscar mayer  Valladolid  \n",
       "12   buena relacion calidad-precio                Flora  Valladolid  \n",
       "13      no cumple las expectativas                Apple  Valladolid  \n",
       "14      no cumple las expectativas              Samsumg  Valladolid  \n",
       "15            llego justo a tiempo                Flora  Valladolid  \n",
       "16           justo lo que esperaba               Adidas  Valladolid  \n",
       "17      no cumple las expectativas   Ediciones Tomodomo  Valladolid  \n",
       "18            no llego el producto   Ediciones Tomodomo  Valladolid  \n",
       "19            no llego el producto  Colgate - palmolive  Valladolid  "
      ]
     },
     "execution_count": 37,
     "metadata": {},
     "output_type": "execute_result"
    }
   ],
   "source": [
    "df5.head(20)"
   ]
  },
  {
   "cell_type": "code",
   "execution_count": 19,
   "metadata": {},
   "outputs": [],
   "source": [
    "def season (fecha):\n",
    "    \"\"\" \n",
    "    El formato para la fecha Año/Mes/Dia\n",
    "     \"\"\"\n",
    "    if (fecha in  pd.date_range(start='01/04/2019', end='30/06/2019')):\n",
    "        return 'Primavera'\n",
    "    elif fecha in  pd.date_range(start='01/04/2020', end='30/06/2020'):\n",
    "        return 'Primavera'\n",
    "    elif (fecha in  pd.date_range(start='01/07/2019', end='30/09/2019')):\n",
    "        return 'Verano'\n",
    "    elif (fecha in  pd.date_range(start='01/07/2020', end='30/09/2020')):\n",
    "        return 'Verano'\n",
    "    elif (fecha in  pd.date_range(start='01/10/2019', end='31/12/2019')):\n",
    "        return 'Otoño'\n",
    "    elif (fecha in  pd.date_range(start='01/10/2020', end='31/12/2020')):\n",
    "        return 'Otoño'\n",
    "    elif (fecha in  pd.date_range(start='01/01/2019', end='31/03/2019')):\n",
    "        return 'Invierno'\n",
    "    elif (fecha in  pd.date_range(start='01/01/2020', end='31/03/2020')):\n",
    "        return 'Invierno'\n",
    "    else: \n",
    "        return 'Fecha incorrecta'"
   ]
  },
  {
   "cell_type": "code",
   "execution_count": 20,
   "metadata": {},
   "outputs": [],
   "source": [
    "df5['fecha'] = df5['fecha'].apply(season)"
   ]
  },
  {
   "cell_type": "code",
   "execution_count": 35,
   "metadata": {},
   "outputs": [
    {
     "data": {
      "text/html": [
       "<div>\n",
       "<style scoped>\n",
       "    .dataframe tbody tr th:only-of-type {\n",
       "        vertical-align: middle;\n",
       "    }\n",
       "\n",
       "    .dataframe tbody tr th {\n",
       "        vertical-align: top;\n",
       "    }\n",
       "\n",
       "    .dataframe thead th {\n",
       "        text-align: right;\n",
       "    }\n",
       "</style>\n",
       "<table border=\"1\" class=\"dataframe\">\n",
       "  <thead>\n",
       "    <tr style=\"text-align: right;\">\n",
       "      <th></th>\n",
       "      <th>usuario</th>\n",
       "      <th>categorias</th>\n",
       "      <th>numero_articulos</th>\n",
       "      <th>fecha</th>\n",
       "      <th>precio</th>\n",
       "      <th>valoracion</th>\n",
       "      <th>comentarios</th>\n",
       "      <th>proveedores</th>\n",
       "      <th>ciudad</th>\n",
       "    </tr>\n",
       "  </thead>\n",
       "  <tbody>\n",
       "    <tr>\n",
       "      <th>0</th>\n",
       "      <td>1</td>\n",
       "      <td>Cocina</td>\n",
       "      <td>2</td>\n",
       "      <td>Otoño</td>\n",
       "      <td>112.28</td>\n",
       "      <td>2.7</td>\n",
       "      <td>me gusto</td>\n",
       "      <td>Flora</td>\n",
       "      <td>Valladolid</td>\n",
       "    </tr>\n",
       "    <tr>\n",
       "      <th>1</th>\n",
       "      <td>1</td>\n",
       "      <td>Baño</td>\n",
       "      <td>6</td>\n",
       "      <td>Verano</td>\n",
       "      <td>479.51</td>\n",
       "      <td>1.7</td>\n",
       "      <td>la calidad no es la esperada</td>\n",
       "      <td>Don limpio</td>\n",
       "      <td>Valladolid</td>\n",
       "    </tr>\n",
       "    <tr>\n",
       "      <th>2</th>\n",
       "      <td>1</td>\n",
       "      <td>Baño</td>\n",
       "      <td>6</td>\n",
       "      <td>Primavera</td>\n",
       "      <td>459.00</td>\n",
       "      <td>4.8</td>\n",
       "      <td>justo lo que esperaba</td>\n",
       "      <td>Cristasol</td>\n",
       "      <td>Valladolid</td>\n",
       "    </tr>\n",
       "    <tr>\n",
       "      <th>3</th>\n",
       "      <td>1</td>\n",
       "      <td>Zapatos</td>\n",
       "      <td>3</td>\n",
       "      <td>Otoño</td>\n",
       "      <td>435.76</td>\n",
       "      <td>3.7</td>\n",
       "      <td>justo lo que esperaba</td>\n",
       "      <td>New balance</td>\n",
       "      <td>Valladolid</td>\n",
       "    </tr>\n",
       "    <tr>\n",
       "      <th>4</th>\n",
       "      <td>1</td>\n",
       "      <td>Hogar</td>\n",
       "      <td>8</td>\n",
       "      <td>Primavera</td>\n",
       "      <td>410.19</td>\n",
       "      <td>2.9</td>\n",
       "      <td>llego justo a tiempo</td>\n",
       "      <td>Vileda</td>\n",
       "      <td>Valladolid</td>\n",
       "    </tr>\n",
       "  </tbody>\n",
       "</table>\n",
       "</div>"
      ],
      "text/plain": [
       "   usuario categorias  numero_articulos      fecha  precio  valoracion  \\\n",
       "0        1     Cocina                 2      Otoño  112.28         2.7   \n",
       "1        1       Baño                 6     Verano  479.51         1.7   \n",
       "2        1       Baño                 6  Primavera  459.00         4.8   \n",
       "3        1    Zapatos                 3      Otoño  435.76         3.7   \n",
       "4        1      Hogar                 8  Primavera  410.19         2.9   \n",
       "\n",
       "                     comentarios  proveedores      ciudad  \n",
       "0                       me gusto        Flora  Valladolid  \n",
       "1   la calidad no es la esperada   Don limpio  Valladolid  \n",
       "2          justo lo que esperaba    Cristasol  Valladolid  \n",
       "3          justo lo que esperaba  New balance  Valladolid  \n",
       "4           llego justo a tiempo       Vileda  Valladolid  "
      ]
     },
     "execution_count": 35,
     "metadata": {},
     "output_type": "execute_result"
    }
   ],
   "source": [
    "df5.head()"
   ]
  },
  {
   "cell_type": "code",
   "execution_count": 22,
   "metadata": {},
   "outputs": [
    {
     "data": {
      "text/plain": [
       "array(['Otoño', 'Verano', 'Primavera', 'Invierno'], dtype=object)"
      ]
     },
     "execution_count": 22,
     "metadata": {},
     "output_type": "execute_result"
    }
   ],
   "source": [
    "df5['fecha'].unique()"
   ]
  },
  {
   "cell_type": "code",
   "execution_count": 23,
   "metadata": {},
   "outputs": [],
   "source": [
    "df6 = df5.copy()"
   ]
  },
  {
   "cell_type": "code",
   "execution_count": 24,
   "metadata": {},
   "outputs": [],
   "source": [
    "# Df with [ 'fecha','precio', 'ciudad' ]\n",
    "df6 = df6[ [ 'fecha','precio', 'ciudad' ] ]"
   ]
  },
  {
   "cell_type": "code",
   "execution_count": 25,
   "metadata": {},
   "outputs": [
    {
     "data": {
      "text/html": [
       "<div>\n",
       "<style scoped>\n",
       "    .dataframe tbody tr th:only-of-type {\n",
       "        vertical-align: middle;\n",
       "    }\n",
       "\n",
       "    .dataframe tbody tr th {\n",
       "        vertical-align: top;\n",
       "    }\n",
       "\n",
       "    .dataframe thead th {\n",
       "        text-align: right;\n",
       "    }\n",
       "</style>\n",
       "<table border=\"1\" class=\"dataframe\">\n",
       "  <thead>\n",
       "    <tr style=\"text-align: right;\">\n",
       "      <th></th>\n",
       "      <th>fecha</th>\n",
       "      <th>precio</th>\n",
       "      <th>ciudad</th>\n",
       "    </tr>\n",
       "  </thead>\n",
       "  <tbody>\n",
       "    <tr>\n",
       "      <th>0</th>\n",
       "      <td>Otoño</td>\n",
       "      <td>112.28</td>\n",
       "      <td>Valladolid</td>\n",
       "    </tr>\n",
       "    <tr>\n",
       "      <th>1</th>\n",
       "      <td>Verano</td>\n",
       "      <td>479.51</td>\n",
       "      <td>Valladolid</td>\n",
       "    </tr>\n",
       "    <tr>\n",
       "      <th>2</th>\n",
       "      <td>Primavera</td>\n",
       "      <td>459.00</td>\n",
       "      <td>Valladolid</td>\n",
       "    </tr>\n",
       "  </tbody>\n",
       "</table>\n",
       "</div>"
      ],
      "text/plain": [
       "       fecha  precio      ciudad\n",
       "0      Otoño  112.28  Valladolid\n",
       "1     Verano  479.51  Valladolid\n",
       "2  Primavera  459.00  Valladolid"
      ]
     },
     "execution_count": 25,
     "metadata": {},
     "output_type": "execute_result"
    }
   ],
   "source": [
    "df6.head(3)"
   ]
  },
  {
   "cell_type": "code",
   "execution_count": 26,
   "metadata": {},
   "outputs": [
    {
     "data": {
      "text/html": [
       "<div>\n",
       "<style scoped>\n",
       "    .dataframe tbody tr th:only-of-type {\n",
       "        vertical-align: middle;\n",
       "    }\n",
       "\n",
       "    .dataframe tbody tr th {\n",
       "        vertical-align: top;\n",
       "    }\n",
       "\n",
       "    .dataframe thead th {\n",
       "        text-align: right;\n",
       "    }\n",
       "</style>\n",
       "<table border=\"1\" class=\"dataframe\">\n",
       "  <thead>\n",
       "    <tr style=\"text-align: right;\">\n",
       "      <th></th>\n",
       "      <th>precio</th>\n",
       "    </tr>\n",
       "    <tr>\n",
       "      <th>fecha</th>\n",
       "      <th></th>\n",
       "    </tr>\n",
       "  </thead>\n",
       "  <tbody>\n",
       "    <tr>\n",
       "      <th>Invierno</th>\n",
       "      <td>22068.48</td>\n",
       "    </tr>\n",
       "    <tr>\n",
       "      <th>Otoño</th>\n",
       "      <td>633624.01</td>\n",
       "    </tr>\n",
       "    <tr>\n",
       "      <th>Primavera</th>\n",
       "      <td>1256790.17</td>\n",
       "    </tr>\n",
       "    <tr>\n",
       "      <th>Verano</th>\n",
       "      <td>627374.52</td>\n",
       "    </tr>\n",
       "  </tbody>\n",
       "</table>\n",
       "</div>"
      ],
      "text/plain": [
       "               precio\n",
       "fecha                \n",
       "Invierno     22068.48\n",
       "Otoño       633624.01\n",
       "Primavera  1256790.17\n",
       "Verano      627374.52"
      ]
     },
     "execution_count": 26,
     "metadata": {},
     "output_type": "execute_result"
    }
   ],
   "source": [
    "# Total de ventas por temporada\n",
    "df6.groupby(['fecha']).sum()"
   ]
  },
  {
   "cell_type": "code",
   "execution_count": 27,
   "metadata": {},
   "outputs": [
    {
     "data": {
      "text/plain": [
       "Text(0, 0.5, 'Ventas acumuladas en Milloes de euros')"
      ]
     },
     "execution_count": 27,
     "metadata": {},
     "output_type": "execute_result"
    },
    {
     "data": {
      "image/png": "[encoded data removed]",
      "text/plain": [
       "<Figure size 1080x432 with 1 Axes>"
      ]
     },
     "metadata": {
      "needs_background": "light"
     },
     "output_type": "display_data"
    }
   ],
   "source": [
    "# Total de ventas acumuladas por temporada\n",
    "df6.groupby(['fecha']).sum().plot.bar( figsize=(15,6) );\n",
    "plt.title(\"Ciudad con mayores ventas\")\n",
    "plt.xlabel(\"Temporada\")\n",
    "plt.ylabel(\"Ventas acumuladas en Milloes de euros\")"
   ]
  },
  {
   "cell_type": "code",
   "execution_count": 28,
   "metadata": {},
   "outputs": [
    {
     "data": {
      "text/plain": [
       "Text(0, 0.5, 'ventas acumuladas por ciudad')"
      ]
     },
     "execution_count": 28,
     "metadata": {},
     "output_type": "execute_result"
    },
    {
     "data": {
      "image/png": "[encoded data removed]",
      "text/plain": [
       "<Figure size 1080x432 with 1 Axes>"
      ]
     },
     "metadata": {
      "needs_background": "light"
     },
     "output_type": "display_data"
    }
   ],
   "source": [
    "# Vista del total de ventas acumulado por ciudad\n",
    "ventas_ciudad = df6.groupby(['ciudad']).sum()\n",
    "graph_test = ventas_ciudad.plot.bar( figsize=(15, 6))\n",
    "plt.title(\"Ciudad con mayores ventas\")\n",
    "plt.xlabel(\"Ciudades\")\n",
    "plt.ylabel(\"ventas acumuladas por ciudad\")"
   ]
  },
  {
   "cell_type": "code",
   "execution_count": 29,
   "metadata": {},
   "outputs": [
    {
     "data": {
      "text/html": [
       "<div>\n",
       "<style scoped>\n",
       "    .dataframe tbody tr th:only-of-type {\n",
       "        vertical-align: middle;\n",
       "    }\n",
       "\n",
       "    .dataframe tbody tr th {\n",
       "        vertical-align: top;\n",
       "    }\n",
       "\n",
       "    .dataframe thead th {\n",
       "        text-align: right;\n",
       "    }\n",
       "</style>\n",
       "<table border=\"1\" class=\"dataframe\">\n",
       "  <thead>\n",
       "    <tr style=\"text-align: right;\">\n",
       "      <th></th>\n",
       "      <th>fecha</th>\n",
       "      <th>precio</th>\n",
       "      <th>ciudad</th>\n",
       "    </tr>\n",
       "  </thead>\n",
       "  <tbody>\n",
       "    <tr>\n",
       "      <th>0</th>\n",
       "      <td>Otoño</td>\n",
       "      <td>112.28</td>\n",
       "      <td>Valladolid</td>\n",
       "    </tr>\n",
       "    <tr>\n",
       "      <th>1</th>\n",
       "      <td>Verano</td>\n",
       "      <td>479.51</td>\n",
       "      <td>Valladolid</td>\n",
       "    </tr>\n",
       "    <tr>\n",
       "      <th>2</th>\n",
       "      <td>Primavera</td>\n",
       "      <td>459.00</td>\n",
       "      <td>Valladolid</td>\n",
       "    </tr>\n",
       "  </tbody>\n",
       "</table>\n",
       "</div>"
      ],
      "text/plain": [
       "       fecha  precio      ciudad\n",
       "0      Otoño  112.28  Valladolid\n",
       "1     Verano  479.51  Valladolid\n",
       "2  Primavera  459.00  Valladolid"
      ]
     },
     "execution_count": 29,
     "metadata": {},
     "output_type": "execute_result"
    }
   ],
   "source": [
    "df6.head(3)"
   ]
  },
  {
   "cell_type": "code",
   "execution_count": 30,
   "metadata": {},
   "outputs": [
    {
     "data": {
      "text/html": [
       "<div>\n",
       "<style scoped>\n",
       "    .dataframe tbody tr th:only-of-type {\n",
       "        vertical-align: middle;\n",
       "    }\n",
       "\n",
       "    .dataframe tbody tr th {\n",
       "        vertical-align: top;\n",
       "    }\n",
       "\n",
       "    .dataframe thead th {\n",
       "        text-align: right;\n",
       "    }\n",
       "</style>\n",
       "<table border=\"1\" class=\"dataframe\">\n",
       "  <thead>\n",
       "    <tr style=\"text-align: right;\">\n",
       "      <th>fecha</th>\n",
       "      <th>Invierno</th>\n",
       "      <th>Otoño</th>\n",
       "      <th>Primavera</th>\n",
       "      <th>Verano</th>\n",
       "    </tr>\n",
       "    <tr>\n",
       "      <th>ciudad</th>\n",
       "      <th></th>\n",
       "      <th></th>\n",
       "      <th></th>\n",
       "      <th></th>\n",
       "    </tr>\n",
       "  </thead>\n",
       "  <tbody>\n",
       "    <tr>\n",
       "      <th>Alicante</th>\n",
       "      <td>681.98</td>\n",
       "      <td>38578.61</td>\n",
       "      <td>80675.54</td>\n",
       "      <td>42272.20</td>\n",
       "    </tr>\n",
       "    <tr>\n",
       "      <th>Barcelona</th>\n",
       "      <td>867.92</td>\n",
       "      <td>37425.37</td>\n",
       "      <td>78635.69</td>\n",
       "      <td>35068.31</td>\n",
       "    </tr>\n",
       "    <tr>\n",
       "      <th>Bilbao</th>\n",
       "      <td>1375.45</td>\n",
       "      <td>44074.53</td>\n",
       "      <td>86327.32</td>\n",
       "      <td>42873.93</td>\n",
       "    </tr>\n",
       "    <tr>\n",
       "      <th>Cordoba</th>\n",
       "      <td>2291.59</td>\n",
       "      <td>31989.40</td>\n",
       "      <td>77409.93</td>\n",
       "      <td>34864.53</td>\n",
       "    </tr>\n",
       "    <tr>\n",
       "      <th>Gijón</th>\n",
       "      <td>1523.96</td>\n",
       "      <td>56291.34</td>\n",
       "      <td>104779.09</td>\n",
       "      <td>50341.03</td>\n",
       "    </tr>\n",
       "    <tr>\n",
       "      <th>Las Palamas de GC</th>\n",
       "      <td>2144.53</td>\n",
       "      <td>42845.99</td>\n",
       "      <td>87868.17</td>\n",
       "      <td>45563.07</td>\n",
       "    </tr>\n",
       "    <tr>\n",
       "      <th>Madrid</th>\n",
       "      <td>1856.02</td>\n",
       "      <td>44365.08</td>\n",
       "      <td>84636.18</td>\n",
       "      <td>51695.77</td>\n",
       "    </tr>\n",
       "    <tr>\n",
       "      <th>Malaga</th>\n",
       "      <td>2318.06</td>\n",
       "      <td>37930.53</td>\n",
       "      <td>91100.02</td>\n",
       "      <td>47323.97</td>\n",
       "    </tr>\n",
       "    <tr>\n",
       "      <th>Murcia</th>\n",
       "      <td>1512.54</td>\n",
       "      <td>50490.31</td>\n",
       "      <td>87061.44</td>\n",
       "      <td>52329.49</td>\n",
       "    </tr>\n",
       "    <tr>\n",
       "      <th>Palma</th>\n",
       "      <td>2329.16</td>\n",
       "      <td>47343.96</td>\n",
       "      <td>91051.37</td>\n",
       "      <td>46194.89</td>\n",
       "    </tr>\n",
       "    <tr>\n",
       "      <th>Sevilla</th>\n",
       "      <td>72.08</td>\n",
       "      <td>48045.64</td>\n",
       "      <td>89353.84</td>\n",
       "      <td>45347.19</td>\n",
       "    </tr>\n",
       "    <tr>\n",
       "      <th>Valencia</th>\n",
       "      <td>2396.11</td>\n",
       "      <td>38704.71</td>\n",
       "      <td>64396.20</td>\n",
       "      <td>37577.87</td>\n",
       "    </tr>\n",
       "    <tr>\n",
       "      <th>Valladolid</th>\n",
       "      <td>559.07</td>\n",
       "      <td>38115.02</td>\n",
       "      <td>77208.27</td>\n",
       "      <td>33826.57</td>\n",
       "    </tr>\n",
       "    <tr>\n",
       "      <th>Vigo</th>\n",
       "      <td>1425.83</td>\n",
       "      <td>35491.23</td>\n",
       "      <td>71923.22</td>\n",
       "      <td>27865.30</td>\n",
       "    </tr>\n",
       "    <tr>\n",
       "      <th>Zaragoza</th>\n",
       "      <td>714.18</td>\n",
       "      <td>41932.29</td>\n",
       "      <td>84363.89</td>\n",
       "      <td>34230.40</td>\n",
       "    </tr>\n",
       "  </tbody>\n",
       "</table>\n",
       "</div>"
      ],
      "text/plain": [
       "fecha              Invierno     Otoño  Primavera    Verano\n",
       "ciudad                                                    \n",
       "Alicante             681.98  38578.61   80675.54  42272.20\n",
       "Barcelona            867.92  37425.37   78635.69  35068.31\n",
       "Bilbao              1375.45  44074.53   86327.32  42873.93\n",
       "Cordoba             2291.59  31989.40   77409.93  34864.53\n",
       "Gijón               1523.96  56291.34  104779.09  50341.03\n",
       "Las Palamas de GC   2144.53  42845.99   87868.17  45563.07\n",
       "Madrid              1856.02  44365.08   84636.18  51695.77\n",
       "Malaga              2318.06  37930.53   91100.02  47323.97\n",
       "Murcia              1512.54  50490.31   87061.44  52329.49\n",
       "Palma               2329.16  47343.96   91051.37  46194.89\n",
       "Sevilla               72.08  48045.64   89353.84  45347.19\n",
       "Valencia            2396.11  38704.71   64396.20  37577.87\n",
       "Valladolid           559.07  38115.02   77208.27  33826.57\n",
       "Vigo                1425.83  35491.23   71923.22  27865.30\n",
       "Zaragoza             714.18  41932.29   84363.89  34230.40"
      ]
     },
     "execution_count": 30,
     "metadata": {},
     "output_type": "execute_result"
    }
   ],
   "source": [
    "# Se reestructura la tabla\n",
    "# https://pandas.pydata.org/docs/reference/api/pandas.pivot_table.html\n",
    "pd.pivot_table(data=df6, index=['ciudad'], values='precio', columns=['fecha'], aggfunc=np.sum)\n"
   ]
  },
  {
   "cell_type": "code",
   "execution_count": 31,
   "metadata": {},
   "outputs": [],
   "source": [
    "df7 = pd.pivot_table(data=df6, index=['ciudad'], values='precio', columns=['fecha'], aggfunc=np.sum)"
   ]
  },
  {
   "cell_type": "code",
   "execution_count": 32,
   "metadata": {},
   "outputs": [
    {
     "data": {
      "text/plain": [
       "(15, 4)"
      ]
     },
     "execution_count": 32,
     "metadata": {},
     "output_type": "execute_result"
    }
   ],
   "source": [
    "df7.shape"
   ]
  },
  {
   "cell_type": "code",
   "execution_count": 33,
   "metadata": {},
   "outputs": [
    {
     "data": {
      "text/plain": [
       "Text(0, 0.5, 'Accumulated sales')"
      ]
     },
     "execution_count": 33,
     "metadata": {},
     "output_type": "execute_result"
    },
    {
     "data": {
      "image/png": "[encoded data removed]",
      "text/plain": [
       "<Figure size 1080x432 with 1 Axes>"
      ]
     },
     "metadata": {
      "needs_background": "light"
     },
     "output_type": "display_data"
    }
   ],
   "source": [
    "# Vista del acumulado de ventas por temporada,\n",
    "# durante los dos años de análisis\n",
    "\n",
    "graph1 = df7.plot.bar(stacked=True, figsize=(15, 6))\n",
    "plt.title(\"Cities with the highest sales\")\n",
    "plt.xlabel(\"Cities\")\n",
    "plt.ylabel(\"Accumulated sales\")\n"
   ]
  },
  {
   "cell_type": "code",
   "execution_count": 34,
   "metadata": {},
   "outputs": [
    {
     "data": {
      "text/plain": [
       "Text(0, 0.5, 'Porcentaje de ventas')"
      ]
     },
     "execution_count": 34,
     "metadata": {},
     "output_type": "execute_result"
    },
    {
     "data": {
      "image/png": "[encoded data removed]",
      "text/plain": [
       "<Figure size 1080x432 with 1 Axes>"
      ]
     },
     "metadata": {
      "needs_background": "light"
     },
     "output_type": "display_data"
    }
   ],
   "source": [
    "# Vista del acumulado de ventas por temporado,\n",
    "# durante los dos años de análisis\n",
    "\n",
    "stacked_data = df7.apply(lambda x: x*100/sum(x), axis=1)\n",
    "stacked_data.plot(kind=\"bar\", stacked=True, figsize=(15, 6))\n",
    "plt.title(\"Ciudad con mayores ventas\")\n",
    "plt.xlabel(\"Ciudades\")\n",
    "plt.ylabel(\"Porcentaje de ventas\")"
   ]
  }
 ],
 "metadata": {
  "interpreter": {
   "hash": "3313d7862e35f23cb796a0d5e1a05f5386948db6518b51457360428deb8d3fb3"
  },
  "kernelspec": {
   "display_name": "Python 3.8.3 64-bit ('base': conda)",
   "language": "python",
   "name": "python3"
  },
  "language_info": {
   "codemirror_mode": {
    "name": "ipython",
    "version": 3
   },
   "file_extension": ".py",
   "mimetype": "text/x-python",
   "name": "python",
   "nbconvert_exporter": "python",
   "pygments_lexer": "ipython3",
   "version": "3.8.3"
  },
  "orig_nbformat": 4
 },
 "nbformat": 4,
 "nbformat_minor": 2
}
