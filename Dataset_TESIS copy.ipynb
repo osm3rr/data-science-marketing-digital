{
 "cells": [
  {
   "cell_type": "markdown",
   "metadata": {},
   "source": [
    "# Creación Dataset tesis "
   ]
  },
  {
   "cell_type": "code",
   "execution_count": 4,
   "metadata": {},
   "outputs": [],
   "source": [
    "#Librerias necesarias\n",
    "\n",
    "from  random import randint\n",
    "import pandas as pd\n",
    "import random"
   ]
  },
  {
   "cell_type": "markdown",
   "metadata": {},
   "source": [
    "## TABLA 1 - identificacion del usuario"
   ]
  },
  {
   "cell_type": "code",
   "execution_count": 5,
   "metadata": {},
   "outputs": [],
   "source": [
    "# ID \n",
    "\n",
    "usuario = []\n",
    "\n",
    "for i in range (1,501):\n",
    "    usuario.append (i)\n",
    "    "
   ]
  },
  {
   "cell_type": "code",
   "execution_count": 6,
   "metadata": {},
   "outputs": [
    {
     "data": {
      "text/plain": [
       "500"
      ]
     },
     "execution_count": 6,
     "metadata": {},
     "output_type": "execute_result"
    }
   ],
   "source": [
    "len (usuario)"
   ]
  },
  {
   "cell_type": "code",
   "execution_count": 7,
   "metadata": {},
   "outputs": [],
   "source": [
    "# Agregar el genero\n",
    "\n",
    "genero = ['Hombre', 'Mujer']\n",
    "\n",
    "sexo = []\n",
    "\n",
    "for i in range (500):\n",
    "    sexo.append (genero[randint (0,1)])\n",
    "\n",
    "\n",
    "\n",
    "\n"
   ]
  },
  {
   "cell_type": "code",
   "execution_count": null,
   "metadata": {},
   "outputs": [],
   "source": []
  },
  {
   "cell_type": "code",
   "execution_count": 8,
   "metadata": {},
   "outputs": [],
   "source": [
    "edad = []\n",
    "\n",
    "for i in range (500):\n",
    "    edad.append (randint(18,70))\n",
    "    "
   ]
  },
  {
   "cell_type": "code",
   "execution_count": null,
   "metadata": {},
   "outputs": [],
   "source": []
  },
  {
   "cell_type": "code",
   "execution_count": 9,
   "metadata": {},
   "outputs": [],
   "source": [
    "# Ciudad\n",
    "lista_ciudades = ['Vigo', 'Zaragoza', 'Bilbao', 'Valladolid', 'Cordoba', 'Malaga', 'Valencia', 'Gijón', 'Alicante', 'Sevilla', 'Las Palamas de GC', 'Murcia', 'Palma', 'Barcelona', 'Madrid ' ]\n",
    "\n",
    "ciudad = []\n",
    "\n",
    "for i in range (500):\n",
    "    ciudad.append (lista_ciudades[randint(0,14)])\n"
   ]
  },
  {
   "cell_type": "code",
   "execution_count": 10,
   "metadata": {},
   "outputs": [
    {
     "data": {
      "text/plain": [
       "500"
      ]
     },
     "execution_count": 10,
     "metadata": {},
     "output_type": "execute_result"
    }
   ],
   "source": [
    "len (ciudad)"
   ]
  },
  {
   "cell_type": "code",
   "execution_count": 11,
   "metadata": {},
   "outputs": [],
   "source": [
    "# Promedio gasto mensual \n",
    "\n",
    "gasto= []\n",
    "\n",
    "for i in range (500):\n",
    "    gasto.append (round(random.uniform(5.00, 500.00),2))"
   ]
  },
  {
   "cell_type": "code",
   "execution_count": 12,
   "metadata": {},
   "outputs": [],
   "source": [
    "# Miembro plus\n",
    "miembro_plus= []\n",
    "\n",
    "for i in range (500):\n",
    "    miembro_plus.append (randint(0,1))"
   ]
  },
  {
   "cell_type": "code",
   "execution_count": 13,
   "metadata": {},
   "outputs": [],
   "source": [
    "# Dispositivo\n",
    "\n",
    "lista_dispositivo = ['PC', 'Movil']\n",
    "\n",
    "dispositivo= []\n",
    "\n",
    "\n",
    "for i in range (500):\n",
    "    dispositivo.append (lista_dispositivo[randint (0,1)])\n",
    "\n"
   ]
  },
  {
   "cell_type": "code",
   "execution_count": 14,
   "metadata": {},
   "outputs": [],
   "source": [
    "#Tiempo en la pagina mensual\n",
    "\n",
    "tiempo = []\n",
    "\n",
    "for i in range (500):\n",
    "   tiempo.append (round(random.uniform(0.55, 7.00),2))"
   ]
  },
  {
   "cell_type": "code",
   "execution_count": 15,
   "metadata": {},
   "outputs": [],
   "source": [
    "#Diccionario de usuarios\n",
    "diccionario_usuarios = {    \n",
    "     'usuario': usuario,\n",
    "     'genero': sexo,\n",
    "     'edad': edad,\n",
    "     'ciudad': ciudad,\n",
    "     'gasto_mes': gasto,\n",
    "     'miembro_plus': miembro_plus,\n",
    "     'dispositivo': dispositivo,\n",
    "     'tiempo_mes': tiempo \n",
    " }"
   ]
  },
  {
   "cell_type": "code",
   "execution_count": null,
   "metadata": {},
   "outputs": [],
   "source": []
  },
  {
   "cell_type": "code",
   "execution_count": 16,
   "metadata": {},
   "outputs": [],
   "source": [
    "df0 = pd.DataFrame( diccionario_usuarios)\n",
    "    "
   ]
  },
  {
   "cell_type": "code",
   "execution_count": 17,
   "metadata": {},
   "outputs": [
    {
     "data": {
      "text/html": [
       "<div>\n",
       "<style scoped>\n",
       "    .dataframe tbody tr th:only-of-type {\n",
       "        vertical-align: middle;\n",
       "    }\n",
       "\n",
       "    .dataframe tbody tr th {\n",
       "        vertical-align: top;\n",
       "    }\n",
       "\n",
       "    .dataframe thead th {\n",
       "        text-align: right;\n",
       "    }\n",
       "</style>\n",
       "<table border=\"1\" class=\"dataframe\">\n",
       "  <thead>\n",
       "    <tr style=\"text-align: right;\">\n",
       "      <th></th>\n",
       "      <th>usuario</th>\n",
       "      <th>genero</th>\n",
       "      <th>edad</th>\n",
       "      <th>ciudad</th>\n",
       "      <th>gasto_mes</th>\n",
       "      <th>miembro_plus</th>\n",
       "      <th>dispositivo</th>\n",
       "      <th>tiempo_mes</th>\n",
       "    </tr>\n",
       "  </thead>\n",
       "  <tbody>\n",
       "    <tr>\n",
       "      <th>0</th>\n",
       "      <td>1</td>\n",
       "      <td>Mujer</td>\n",
       "      <td>21</td>\n",
       "      <td>Valladolid</td>\n",
       "      <td>483.81</td>\n",
       "      <td>0</td>\n",
       "      <td>PC</td>\n",
       "      <td>3.30</td>\n",
       "    </tr>\n",
       "    <tr>\n",
       "      <th>1</th>\n",
       "      <td>2</td>\n",
       "      <td>Mujer</td>\n",
       "      <td>45</td>\n",
       "      <td>Valladolid</td>\n",
       "      <td>186.30</td>\n",
       "      <td>1</td>\n",
       "      <td>PC</td>\n",
       "      <td>6.60</td>\n",
       "    </tr>\n",
       "    <tr>\n",
       "      <th>2</th>\n",
       "      <td>3</td>\n",
       "      <td>Mujer</td>\n",
       "      <td>64</td>\n",
       "      <td>Murcia</td>\n",
       "      <td>396.03</td>\n",
       "      <td>0</td>\n",
       "      <td>PC</td>\n",
       "      <td>2.09</td>\n",
       "    </tr>\n",
       "    <tr>\n",
       "      <th>3</th>\n",
       "      <td>4</td>\n",
       "      <td>Hombre</td>\n",
       "      <td>35</td>\n",
       "      <td>Vigo</td>\n",
       "      <td>233.32</td>\n",
       "      <td>1</td>\n",
       "      <td>PC</td>\n",
       "      <td>5.23</td>\n",
       "    </tr>\n",
       "    <tr>\n",
       "      <th>4</th>\n",
       "      <td>5</td>\n",
       "      <td>Mujer</td>\n",
       "      <td>56</td>\n",
       "      <td>Cordoba</td>\n",
       "      <td>497.87</td>\n",
       "      <td>1</td>\n",
       "      <td>PC</td>\n",
       "      <td>2.87</td>\n",
       "    </tr>\n",
       "    <tr>\n",
       "      <th>...</th>\n",
       "      <td>...</td>\n",
       "      <td>...</td>\n",
       "      <td>...</td>\n",
       "      <td>...</td>\n",
       "      <td>...</td>\n",
       "      <td>...</td>\n",
       "      <td>...</td>\n",
       "      <td>...</td>\n",
       "    </tr>\n",
       "    <tr>\n",
       "      <th>495</th>\n",
       "      <td>496</td>\n",
       "      <td>Hombre</td>\n",
       "      <td>53</td>\n",
       "      <td>Bilbao</td>\n",
       "      <td>289.28</td>\n",
       "      <td>1</td>\n",
       "      <td>Movil</td>\n",
       "      <td>1.11</td>\n",
       "    </tr>\n",
       "    <tr>\n",
       "      <th>496</th>\n",
       "      <td>497</td>\n",
       "      <td>Hombre</td>\n",
       "      <td>35</td>\n",
       "      <td>Vigo</td>\n",
       "      <td>432.91</td>\n",
       "      <td>1</td>\n",
       "      <td>PC</td>\n",
       "      <td>1.86</td>\n",
       "    </tr>\n",
       "    <tr>\n",
       "      <th>497</th>\n",
       "      <td>498</td>\n",
       "      <td>Mujer</td>\n",
       "      <td>61</td>\n",
       "      <td>Murcia</td>\n",
       "      <td>464.96</td>\n",
       "      <td>1</td>\n",
       "      <td>PC</td>\n",
       "      <td>4.24</td>\n",
       "    </tr>\n",
       "    <tr>\n",
       "      <th>498</th>\n",
       "      <td>499</td>\n",
       "      <td>Hombre</td>\n",
       "      <td>51</td>\n",
       "      <td>Palma</td>\n",
       "      <td>298.19</td>\n",
       "      <td>1</td>\n",
       "      <td>Movil</td>\n",
       "      <td>3.05</td>\n",
       "    </tr>\n",
       "    <tr>\n",
       "      <th>499</th>\n",
       "      <td>500</td>\n",
       "      <td>Hombre</td>\n",
       "      <td>29</td>\n",
       "      <td>Malaga</td>\n",
       "      <td>99.99</td>\n",
       "      <td>0</td>\n",
       "      <td>Movil</td>\n",
       "      <td>3.34</td>\n",
       "    </tr>\n",
       "  </tbody>\n",
       "</table>\n",
       "<p>500 rows × 8 columns</p>\n",
       "</div>"
      ],
      "text/plain": [
       "     usuario  genero  edad      ciudad  gasto_mes  miembro_plus dispositivo  \\\n",
       "0          1   Mujer    21  Valladolid     483.81             0          PC   \n",
       "1          2   Mujer    45  Valladolid     186.30             1          PC   \n",
       "2          3   Mujer    64      Murcia     396.03             0          PC   \n",
       "3          4  Hombre    35        Vigo     233.32             1          PC   \n",
       "4          5   Mujer    56     Cordoba     497.87             1          PC   \n",
       "..       ...     ...   ...         ...        ...           ...         ...   \n",
       "495      496  Hombre    53      Bilbao     289.28             1       Movil   \n",
       "496      497  Hombre    35        Vigo     432.91             1          PC   \n",
       "497      498   Mujer    61      Murcia     464.96             1          PC   \n",
       "498      499  Hombre    51       Palma     298.19             1       Movil   \n",
       "499      500  Hombre    29      Malaga      99.99             0       Movil   \n",
       "\n",
       "     tiempo_mes  \n",
       "0          3.30  \n",
       "1          6.60  \n",
       "2          2.09  \n",
       "3          5.23  \n",
       "4          2.87  \n",
       "..          ...  \n",
       "495        1.11  \n",
       "496        1.86  \n",
       "497        4.24  \n",
       "498        3.05  \n",
       "499        3.34  \n",
       "\n",
       "[500 rows x 8 columns]"
      ]
     },
     "execution_count": 17,
     "metadata": {},
     "output_type": "execute_result"
    }
   ],
   "source": [
    "#Tabla de atributos de los usuarios \n",
    "df0"
   ]
  },
  {
   "cell_type": "code",
   "execution_count": 18,
   "metadata": {},
   "outputs": [],
   "source": [
    "# Export df0 to .csv without index\n",
    "df0.to_csv('users_data.csv', index=False)"
   ]
  },
  {
   "cell_type": "markdown",
   "metadata": {},
   "source": [
    "## Tabla 2 \n"
   ]
  },
  {
   "cell_type": "code",
   "execution_count": 19,
   "metadata": {},
   "outputs": [
    {
     "data": {
      "text/html": [
       "<div>\n",
       "<style scoped>\n",
       "    .dataframe tbody tr th:only-of-type {\n",
       "        vertical-align: middle;\n",
       "    }\n",
       "\n",
       "    .dataframe tbody tr th {\n",
       "        vertical-align: top;\n",
       "    }\n",
       "\n",
       "    .dataframe thead th {\n",
       "        text-align: right;\n",
       "    }\n",
       "</style>\n",
       "<table border=\"1\" class=\"dataframe\">\n",
       "  <thead>\n",
       "    <tr style=\"text-align: right;\">\n",
       "      <th></th>\n",
       "      <th>usuario</th>\n",
       "      <th>edad</th>\n",
       "      <th>gasto_mes</th>\n",
       "      <th>miembro_plus</th>\n",
       "      <th>tiempo_mes</th>\n",
       "    </tr>\n",
       "  </thead>\n",
       "  <tbody>\n",
       "    <tr>\n",
       "      <th>count</th>\n",
       "      <td>500.000000</td>\n",
       "      <td>500.000000</td>\n",
       "      <td>500.000000</td>\n",
       "      <td>500.000000</td>\n",
       "      <td>500.000000</td>\n",
       "    </tr>\n",
       "    <tr>\n",
       "      <th>mean</th>\n",
       "      <td>250.500000</td>\n",
       "      <td>44.180000</td>\n",
       "      <td>255.577020</td>\n",
       "      <td>0.490000</td>\n",
       "      <td>3.834820</td>\n",
       "    </tr>\n",
       "    <tr>\n",
       "      <th>std</th>\n",
       "      <td>144.481833</td>\n",
       "      <td>15.021548</td>\n",
       "      <td>143.969192</td>\n",
       "      <td>0.500401</td>\n",
       "      <td>1.779172</td>\n",
       "    </tr>\n",
       "    <tr>\n",
       "      <th>min</th>\n",
       "      <td>1.000000</td>\n",
       "      <td>18.000000</td>\n",
       "      <td>5.890000</td>\n",
       "      <td>0.000000</td>\n",
       "      <td>0.560000</td>\n",
       "    </tr>\n",
       "    <tr>\n",
       "      <th>25%</th>\n",
       "      <td>125.750000</td>\n",
       "      <td>32.000000</td>\n",
       "      <td>124.155000</td>\n",
       "      <td>0.000000</td>\n",
       "      <td>2.317500</td>\n",
       "    </tr>\n",
       "    <tr>\n",
       "      <th>50%</th>\n",
       "      <td>250.500000</td>\n",
       "      <td>44.000000</td>\n",
       "      <td>258.165000</td>\n",
       "      <td>0.000000</td>\n",
       "      <td>3.730000</td>\n",
       "    </tr>\n",
       "    <tr>\n",
       "      <th>75%</th>\n",
       "      <td>375.250000</td>\n",
       "      <td>57.000000</td>\n",
       "      <td>388.820000</td>\n",
       "      <td>1.000000</td>\n",
       "      <td>5.470000</td>\n",
       "    </tr>\n",
       "    <tr>\n",
       "      <th>max</th>\n",
       "      <td>500.000000</td>\n",
       "      <td>70.000000</td>\n",
       "      <td>497.870000</td>\n",
       "      <td>1.000000</td>\n",
       "      <td>7.000000</td>\n",
       "    </tr>\n",
       "  </tbody>\n",
       "</table>\n",
       "</div>"
      ],
      "text/plain": [
       "          usuario        edad   gasto_mes  miembro_plus  tiempo_mes\n",
       "count  500.000000  500.000000  500.000000    500.000000  500.000000\n",
       "mean   250.500000   44.180000  255.577020      0.490000    3.834820\n",
       "std    144.481833   15.021548  143.969192      0.500401    1.779172\n",
       "min      1.000000   18.000000    5.890000      0.000000    0.560000\n",
       "25%    125.750000   32.000000  124.155000      0.000000    2.317500\n",
       "50%    250.500000   44.000000  258.165000      0.000000    3.730000\n",
       "75%    375.250000   57.000000  388.820000      1.000000    5.470000\n",
       "max    500.000000   70.000000  497.870000      1.000000    7.000000"
      ]
     },
     "execution_count": 19,
     "metadata": {},
     "output_type": "execute_result"
    }
   ],
   "source": [
    "df0.describe()"
   ]
  },
  {
   "cell_type": "code",
   "execution_count": 20,
   "metadata": {},
   "outputs": [],
   "source": [
    "usuario = []\n",
    "\n",
    "for i in range (10000):\n",
    "    usuario.append (randint (1,500))"
   ]
  },
  {
   "cell_type": "code",
   "execution_count": 21,
   "metadata": {},
   "outputs": [],
   "source": [
    "#usuario1 = [i for in range (10000) : ]\n",
    "\n"
   ]
  },
  {
   "cell_type": "code",
   "execution_count": 22,
   "metadata": {},
   "outputs": [],
   "source": [
    "# Lista de categorias\n",
    "\n",
    "categorias_lista = ['Deporte', 'Electronica', 'Cocina', 'Ropa', 'Zapatos', 'Juguetes', 'Hogar', 'Baño', 'Ferreteria', 'Libros', 'Accesorios']\n",
    "\n",
    "categoria = []\n",
    "\n",
    "for i in range (10000):\n",
    "    categoria.append (categorias_lista[randint(0,10)])\n"
   ]
  },
  {
   "cell_type": "code",
   "execution_count": 23,
   "metadata": {},
   "outputs": [],
   "source": [
    "numero_articulos =[]\n",
    "\n",
    "for i in range (10000):\n",
    "    numero_articulos.append (randint(1,11))"
   ]
  },
  {
   "cell_type": "code",
   "execution_count": 24,
   "metadata": {},
   "outputs": [],
   "source": [
    "#Librerias necesarias\n",
    "\n",
    "from datetime import datetime"
   ]
  },
  {
   "cell_type": "code",
   "execution_count": 25,
   "metadata": {},
   "outputs": [],
   "source": [
    "# Prueba 2 "
   ]
  },
  {
   "cell_type": "code",
   "execution_count": 26,
   "metadata": {},
   "outputs": [],
   "source": [
    "\n",
    "import random\n",
    "from datetime import datetime, timedelta\n",
    "\n",
    "min_year=2019\n",
    "max_year=2020\n",
    "\n",
    "start = datetime(min_year, 1, 1, 00, 00, 00)\n",
    "years = max_year - min_year+1\n",
    "end = start + timedelta(days=365 * years)\n",
    "\n",
    "fecha = []\n",
    "for i in range(10000):\n",
    "    random_date = start + (end - start) * random.random()\n",
    "    fecha.append (random_date)\n"
   ]
  },
  {
   "cell_type": "code",
   "execution_count": 27,
   "metadata": {},
   "outputs": [],
   "source": [
    "precio = []\n",
    "\n",
    "for i in range(10000):\n",
    "   precio.append(round(random.uniform(5, 500),2))"
   ]
  },
  {
   "cell_type": "code",
   "execution_count": 28,
   "metadata": {},
   "outputs": [],
   "source": [
    "valoracion = []\n",
    "\n",
    "for i in range(10000):\n",
    "   valoracion.append(round(random.uniform(0, 5),1))\n",
    "\n"
   ]
  },
  {
   "cell_type": "code",
   "execution_count": 29,
   "metadata": {},
   "outputs": [
    {
     "name": "stdout",
     "output_type": "stream",
     "text": [
      "10000\n",
      "10000\n",
      "10000\n",
      "10000\n"
     ]
    }
   ],
   "source": [
    "print (len(usuario))\n",
    "print (len(categoria))\n",
    "print (len(numero_articulos))\n",
    "print (len(fecha))"
   ]
  },
  {
   "cell_type": "code",
   "execution_count": 30,
   "metadata": {},
   "outputs": [],
   "source": [
    "df1 = pd.DataFrame (\n",
    "    {'usuario': usuario,\n",
    "    'categorias': categoria,\n",
    "    'numero_articulos': numero_articulos,\n",
    "    'fecha': fecha,\n",
    "    'precio': precio,\n",
    "    'valoracion': valoracion\n",
    "    }\n",
    "    \n",
    ")"
   ]
  },
  {
   "cell_type": "code",
   "execution_count": 31,
   "metadata": {},
   "outputs": [
    {
     "data": {
      "text/html": [
       "<div>\n",
       "<style scoped>\n",
       "    .dataframe tbody tr th:only-of-type {\n",
       "        vertical-align: middle;\n",
       "    }\n",
       "\n",
       "    .dataframe tbody tr th {\n",
       "        vertical-align: top;\n",
       "    }\n",
       "\n",
       "    .dataframe thead th {\n",
       "        text-align: right;\n",
       "    }\n",
       "</style>\n",
       "<table border=\"1\" class=\"dataframe\">\n",
       "  <thead>\n",
       "    <tr style=\"text-align: right;\">\n",
       "      <th></th>\n",
       "      <th>usuario</th>\n",
       "      <th>categorias</th>\n",
       "      <th>numero_articulos</th>\n",
       "      <th>fecha</th>\n",
       "      <th>precio</th>\n",
       "      <th>valoracion</th>\n",
       "    </tr>\n",
       "  </thead>\n",
       "  <tbody>\n",
       "    <tr>\n",
       "      <th>0</th>\n",
       "      <td>92</td>\n",
       "      <td>Baño</td>\n",
       "      <td>8</td>\n",
       "      <td>2019-03-27 21:08:33.786039</td>\n",
       "      <td>343.53</td>\n",
       "      <td>0.5</td>\n",
       "    </tr>\n",
       "    <tr>\n",
       "      <th>1</th>\n",
       "      <td>265</td>\n",
       "      <td>Baño</td>\n",
       "      <td>6</td>\n",
       "      <td>2019-08-08 15:19:19.873440</td>\n",
       "      <td>78.43</td>\n",
       "      <td>3.7</td>\n",
       "    </tr>\n",
       "    <tr>\n",
       "      <th>2</th>\n",
       "      <td>106</td>\n",
       "      <td>Baño</td>\n",
       "      <td>7</td>\n",
       "      <td>2020-11-10 18:56:30.101786</td>\n",
       "      <td>446.09</td>\n",
       "      <td>2.4</td>\n",
       "    </tr>\n",
       "  </tbody>\n",
       "</table>\n",
       "</div>"
      ],
      "text/plain": [
       "   usuario categorias  numero_articulos                      fecha  precio  \\\n",
       "0       92       Baño                 8 2019-03-27 21:08:33.786039  343.53   \n",
       "1      265       Baño                 6 2019-08-08 15:19:19.873440   78.43   \n",
       "2      106       Baño                 7 2020-11-10 18:56:30.101786  446.09   \n",
       "\n",
       "   valoracion  \n",
       "0         0.5  \n",
       "1         3.7  \n",
       "2         2.4  "
      ]
     },
     "execution_count": 31,
     "metadata": {},
     "output_type": "execute_result"
    }
   ],
   "source": [
    "df1.head(3)"
   ]
  },
  {
   "cell_type": "markdown",
   "metadata": {},
   "source": [
    "## Generacion de comentarios \n",
    "\n",
    "* rango: \n",
    "* 0-1.5 = 'muy malo', 'no cumple las expectativas', 'no llego el producto' \n",
    "* 1.5-2.5 = ' la calidad no es la esperada', 'el paquete llego en mal estado' , 'no llego en tiempo' \n",
    "* 2.5-3.5 = ' cumple las expectativas' , 'llego justo a tiempo' , 'me gusto' \n",
    "* 3.5-5 = ' muy bueno!', 'justo lo que esperaba' , 'buena relacion calidad-precio' "
   ]
  },
  {
   "cell_type": "code",
   "execution_count": 32,
   "metadata": {},
   "outputs": [],
   "source": [
    "# asumimos que no hay valoracion menor a 0 \n",
    "\n",
    "def comentarios(valoracion):\n",
    "\n",
    "\n",
    "    comentarios0_1 = ['muy malo', 'no cumple las expectativas', 'no llego el producto' ]\n",
    "    comentarios1_2 = [' la calidad no es la esperada', 'el paquete llego en mal estado' , 'no llego en tiempo'] \n",
    "    comentarios2_3 = [' cumple las expectativas' , 'llego justo a tiempo' , 'me gusto' ]\n",
    "    comentarios3_5 = [' muy bueno!', 'justo lo que esperaba' , 'buena relacion calidad-precio' ]\n",
    "    comentarios_clientes = []\n",
    "\n",
    "    if valoracion <= 1.5:\n",
    "        #comentarios_clientes.append (comentarios0_1 [randint(0,2)])\n",
    "        return comentarios0_1[randint(0,2)]\n",
    "    elif 1.5 < valoracion <= 2.5: \n",
    "       # comentraios_clientes.append (comentarios1_2 [randint(0,2)])\n",
    "       return comentarios1_2[randint(0,2)]\n",
    "    elif 2.5 < valoracion <= 3.5: \n",
    "        #comentarios_clientes.append (comentarios2_3 [randint(0,2)])\n",
    "        return comentarios2_3[randint(0,2)]\n",
    "    elif 3.5 < valoracion <= 5: \n",
    "        #comentarios_clientes.append (comentarios3_5 [randint(0,2)])\n",
    "        return comentarios3_5[randint(0,2)]\n",
    "        \n",
    "\n",
    "    \n",
    "\n",
    "\n",
    "    "
   ]
  },
  {
   "cell_type": "code",
   "execution_count": 33,
   "metadata": {},
   "outputs": [
    {
     "data": {
      "text/plain": [
       "'me gusto'"
      ]
     },
     "execution_count": 33,
     "metadata": {},
     "output_type": "execute_result"
    }
   ],
   "source": [
    "comentarios (3)"
   ]
  },
  {
   "cell_type": "code",
   "execution_count": 34,
   "metadata": {},
   "outputs": [],
   "source": [
    "df1['comentarios'] = df1['valoracion']\n"
   ]
  },
  {
   "cell_type": "code",
   "execution_count": 35,
   "metadata": {},
   "outputs": [],
   "source": [
    " df1 ['comentarios'] = df1['comentarios'].apply(comentarios)"
   ]
  },
  {
   "cell_type": "code",
   "execution_count": 36,
   "metadata": {},
   "outputs": [
    {
     "data": {
      "text/html": [
       "<div>\n",
       "<style scoped>\n",
       "    .dataframe tbody tr th:only-of-type {\n",
       "        vertical-align: middle;\n",
       "    }\n",
       "\n",
       "    .dataframe tbody tr th {\n",
       "        vertical-align: top;\n",
       "    }\n",
       "\n",
       "    .dataframe thead th {\n",
       "        text-align: right;\n",
       "    }\n",
       "</style>\n",
       "<table border=\"1\" class=\"dataframe\">\n",
       "  <thead>\n",
       "    <tr style=\"text-align: right;\">\n",
       "      <th></th>\n",
       "      <th>usuario</th>\n",
       "      <th>categorias</th>\n",
       "      <th>numero_articulos</th>\n",
       "      <th>fecha</th>\n",
       "      <th>precio</th>\n",
       "      <th>valoracion</th>\n",
       "      <th>comentarios</th>\n",
       "    </tr>\n",
       "  </thead>\n",
       "  <tbody>\n",
       "    <tr>\n",
       "      <th>0</th>\n",
       "      <td>92</td>\n",
       "      <td>Baño</td>\n",
       "      <td>8</td>\n",
       "      <td>2019-03-27 21:08:33.786039</td>\n",
       "      <td>343.53</td>\n",
       "      <td>0.5</td>\n",
       "      <td>no llego el producto</td>\n",
       "    </tr>\n",
       "    <tr>\n",
       "      <th>1</th>\n",
       "      <td>265</td>\n",
       "      <td>Baño</td>\n",
       "      <td>6</td>\n",
       "      <td>2019-08-08 15:19:19.873440</td>\n",
       "      <td>78.43</td>\n",
       "      <td>3.7</td>\n",
       "      <td>justo lo que esperaba</td>\n",
       "    </tr>\n",
       "    <tr>\n",
       "      <th>2</th>\n",
       "      <td>106</td>\n",
       "      <td>Baño</td>\n",
       "      <td>7</td>\n",
       "      <td>2020-11-10 18:56:30.101786</td>\n",
       "      <td>446.09</td>\n",
       "      <td>2.4</td>\n",
       "      <td>no llego en tiempo</td>\n",
       "    </tr>\n",
       "  </tbody>\n",
       "</table>\n",
       "</div>"
      ],
      "text/plain": [
       "   usuario categorias  numero_articulos                      fecha  precio  \\\n",
       "0       92       Baño                 8 2019-03-27 21:08:33.786039  343.53   \n",
       "1      265       Baño                 6 2019-08-08 15:19:19.873440   78.43   \n",
       "2      106       Baño                 7 2020-11-10 18:56:30.101786  446.09   \n",
       "\n",
       "   valoracion            comentarios  \n",
       "0         0.5   no llego el producto  \n",
       "1         3.7  justo lo que esperaba  \n",
       "2         2.4     no llego en tiempo  "
      ]
     },
     "execution_count": 36,
     "metadata": {},
     "output_type": "execute_result"
    }
   ],
   "source": [
    "df1.head(3)"
   ]
  },
  {
   "cell_type": "code",
   "execution_count": 37,
   "metadata": {},
   "outputs": [
    {
     "data": {
      "text/html": [
       "<div>\n",
       "<style scoped>\n",
       "    .dataframe tbody tr th:only-of-type {\n",
       "        vertical-align: middle;\n",
       "    }\n",
       "\n",
       "    .dataframe tbody tr th {\n",
       "        vertical-align: top;\n",
       "    }\n",
       "\n",
       "    .dataframe thead th {\n",
       "        text-align: right;\n",
       "    }\n",
       "</style>\n",
       "<table border=\"1\" class=\"dataframe\">\n",
       "  <thead>\n",
       "    <tr style=\"text-align: right;\">\n",
       "      <th></th>\n",
       "      <th>usuario</th>\n",
       "      <th>numero_articulos</th>\n",
       "      <th>precio</th>\n",
       "      <th>valoracion</th>\n",
       "    </tr>\n",
       "  </thead>\n",
       "  <tbody>\n",
       "    <tr>\n",
       "      <th>count</th>\n",
       "      <td>10000.000000</td>\n",
       "      <td>10000.000000</td>\n",
       "      <td>10000.000000</td>\n",
       "      <td>10000.000000</td>\n",
       "    </tr>\n",
       "    <tr>\n",
       "      <th>mean</th>\n",
       "      <td>247.862400</td>\n",
       "      <td>5.934300</td>\n",
       "      <td>253.985718</td>\n",
       "      <td>2.503540</td>\n",
       "    </tr>\n",
       "    <tr>\n",
       "      <th>std</th>\n",
       "      <td>143.194803</td>\n",
       "      <td>3.184022</td>\n",
       "      <td>142.683054</td>\n",
       "      <td>1.448883</td>\n",
       "    </tr>\n",
       "    <tr>\n",
       "      <th>min</th>\n",
       "      <td>1.000000</td>\n",
       "      <td>1.000000</td>\n",
       "      <td>5.020000</td>\n",
       "      <td>0.000000</td>\n",
       "    </tr>\n",
       "    <tr>\n",
       "      <th>25%</th>\n",
       "      <td>123.000000</td>\n",
       "      <td>3.000000</td>\n",
       "      <td>130.755000</td>\n",
       "      <td>1.200000</td>\n",
       "    </tr>\n",
       "    <tr>\n",
       "      <th>50%</th>\n",
       "      <td>245.000000</td>\n",
       "      <td>6.000000</td>\n",
       "      <td>254.700000</td>\n",
       "      <td>2.500000</td>\n",
       "    </tr>\n",
       "    <tr>\n",
       "      <th>75%</th>\n",
       "      <td>369.000000</td>\n",
       "      <td>9.000000</td>\n",
       "      <td>377.637500</td>\n",
       "      <td>3.800000</td>\n",
       "    </tr>\n",
       "    <tr>\n",
       "      <th>max</th>\n",
       "      <td>500.000000</td>\n",
       "      <td>11.000000</td>\n",
       "      <td>499.960000</td>\n",
       "      <td>5.000000</td>\n",
       "    </tr>\n",
       "  </tbody>\n",
       "</table>\n",
       "</div>"
      ],
      "text/plain": [
       "            usuario  numero_articulos        precio    valoracion\n",
       "count  10000.000000      10000.000000  10000.000000  10000.000000\n",
       "mean     247.862400          5.934300    253.985718      2.503540\n",
       "std      143.194803          3.184022    142.683054      1.448883\n",
       "min        1.000000          1.000000      5.020000      0.000000\n",
       "25%      123.000000          3.000000    130.755000      1.200000\n",
       "50%      245.000000          6.000000    254.700000      2.500000\n",
       "75%      369.000000          9.000000    377.637500      3.800000\n",
       "max      500.000000         11.000000    499.960000      5.000000"
      ]
     },
     "execution_count": 37,
     "metadata": {},
     "output_type": "execute_result"
    }
   ],
   "source": [
    "df1.describe()"
   ]
  },
  {
   "cell_type": "code",
   "execution_count": 38,
   "metadata": {},
   "outputs": [],
   "source": [
    "df2 = df1.copy()"
   ]
  },
  {
   "cell_type": "code",
   "execution_count": 39,
   "metadata": {},
   "outputs": [
    {
     "data": {
      "text/html": [
       "<div>\n",
       "<style scoped>\n",
       "    .dataframe tbody tr th:only-of-type {\n",
       "        vertical-align: middle;\n",
       "    }\n",
       "\n",
       "    .dataframe tbody tr th {\n",
       "        vertical-align: top;\n",
       "    }\n",
       "\n",
       "    .dataframe thead th {\n",
       "        text-align: right;\n",
       "    }\n",
       "</style>\n",
       "<table border=\"1\" class=\"dataframe\">\n",
       "  <thead>\n",
       "    <tr style=\"text-align: right;\">\n",
       "      <th></th>\n",
       "      <th>usuario</th>\n",
       "      <th>categorias</th>\n",
       "      <th>numero_articulos</th>\n",
       "      <th>fecha</th>\n",
       "      <th>precio</th>\n",
       "      <th>valoracion</th>\n",
       "      <th>comentarios</th>\n",
       "    </tr>\n",
       "  </thead>\n",
       "  <tbody>\n",
       "    <tr>\n",
       "      <th>0</th>\n",
       "      <td>92</td>\n",
       "      <td>Baño</td>\n",
       "      <td>8</td>\n",
       "      <td>2019-03-27 21:08:33.786039</td>\n",
       "      <td>343.53</td>\n",
       "      <td>0.5</td>\n",
       "      <td>no llego el producto</td>\n",
       "    </tr>\n",
       "    <tr>\n",
       "      <th>1</th>\n",
       "      <td>265</td>\n",
       "      <td>Baño</td>\n",
       "      <td>6</td>\n",
       "      <td>2019-08-08 15:19:19.873440</td>\n",
       "      <td>78.43</td>\n",
       "      <td>3.7</td>\n",
       "      <td>justo lo que esperaba</td>\n",
       "    </tr>\n",
       "    <tr>\n",
       "      <th>2</th>\n",
       "      <td>106</td>\n",
       "      <td>Baño</td>\n",
       "      <td>7</td>\n",
       "      <td>2020-11-10 18:56:30.101786</td>\n",
       "      <td>446.09</td>\n",
       "      <td>2.4</td>\n",
       "      <td>no llego en tiempo</td>\n",
       "    </tr>\n",
       "  </tbody>\n",
       "</table>\n",
       "</div>"
      ],
      "text/plain": [
       "   usuario categorias  numero_articulos                      fecha  precio  \\\n",
       "0       92       Baño                 8 2019-03-27 21:08:33.786039  343.53   \n",
       "1      265       Baño                 6 2019-08-08 15:19:19.873440   78.43   \n",
       "2      106       Baño                 7 2020-11-10 18:56:30.101786  446.09   \n",
       "\n",
       "   valoracion            comentarios  \n",
       "0         0.5   no llego el producto  \n",
       "1         3.7  justo lo que esperaba  \n",
       "2         2.4     no llego en tiempo  "
      ]
     },
     "execution_count": 39,
     "metadata": {},
     "output_type": "execute_result"
    }
   ],
   "source": [
    "df2.head(3)"
   ]
  },
  {
   "cell_type": "markdown",
   "metadata": {},
   "source": [
    "## Creacion de proveedores por categorias \n",
    "* Electronica = 'General Electric' , 'Bosch', 'Samsumg' 'Apple', 'Sony' \n",
    "* Deporte = 'Adidas', 'Nike', ' Under Armour', 'Asics' \n",
    "* Juguetes = 'Lego', 'Playmobile', 'Chicco' , 'Fisher-price' \n",
    "* Libros = 'Platena Comic' , 'Alianza Editorial' , 'Valdemar' , 'Ediciones Tomodomo' \n",
    "* Accesorios = 'Polo' ,'Ray-ban' , ' Michael Kors', 'Bimba y Lola' \n",
    "* Cocina = 'Bimbo' , 'Oscar mayer', 'Nescafe' , 'Flora'\n",
    "* Ropa =  'Roxy' , 'Lacoste' , 'Hollister', 'Levis' \n",
    "* Hogar = 'Vileda', 'Colgate - palmolive' , 'Unilever', 'Henkel' \n",
    "* Baño = 'KH7', 'Don limpio', 'Cristasol', 'Cif'\n",
    "* Ferreteria = 'Sika', '3M', 'Yale', Pavco' "
   ]
  },
  {
   "cell_type": "code",
   "execution_count": 40,
   "metadata": {},
   "outputs": [],
   "source": [
    "\n",
    "def proveedores(categoria):\n",
    "\n",
    "\n",
    "    proveedores_electronica  = ['General Electric', 'Samsumg', 'Apple', 'Sony' ]\n",
    "    proveedores_deportes = ['Adidas', 'Nike', 'Under Armour', 'Asics'] \n",
    "    proveedores_juguetes = ['Lego', 'Playmobile', 'Chicco' , 'Fisher-price' ]\n",
    "    proveedores_libros = ['Platena Comic' , 'Alianza Editorial' , 'Valdemar' , 'Ediciones Tomodomo'  ]\n",
    "    proveedores_accesorios = ['Polo' ,'Ray-ban' , ' Michael Kors', 'Bimba y Lola']\n",
    "    proveedores_cocina = ['Bimbo' , 'Oscar mayer', 'Nescafe' , 'Flora']\n",
    "    proveedores_ropa = ['Roxy' , 'Lacoste' , 'Hollister', 'Levis']\n",
    "    proveedores_hogar = ['Vileda', 'Colgate - palmolive' , 'Unilever', 'Henkel' ]\n",
    "    proveedores_baño = ['KH7', 'Don limpio', 'Cristasol', 'Cif']\n",
    "    proveedores_ferreteria = ['Sika', '3M', 'Yale', 'Pavco' ]\n",
    "    proveedores_zapatos = ['Camper', 'Skechers', 'Crocs', 'New balance']\n",
    "    proveedor_categoria = []\n",
    "\n",
    "    if categoria == 'Electronica':\n",
    "        return proveedores_electronica[randint(0,3)]\n",
    "    elif categoria == 'Deporte': \n",
    "       return proveedores_deportes[randint(0,3)]\n",
    "    elif categoria == 'Juguetes': \n",
    "        return proveedores_juguetes[randint(0,3)]\n",
    "    elif categoria == 'Libros': \n",
    "        return proveedores_libros[randint(0,3)]\n",
    "    elif categoria == 'Accesorios': \n",
    "        return proveedores_accesorios[randint(0,3)]\n",
    "    elif categoria == 'Cocina': \n",
    "        return proveedores_cocina[randint(0,3)]\n",
    "    elif categoria =='Ropa': \n",
    "        return proveedores_ropa[randint(0,3)]\n",
    "    elif categoria == 'Hogar': \n",
    "        return proveedores_hogar[randint(0,3)]\n",
    "    elif categoria == 'Baño': \n",
    "        return proveedores_baño[randint(0,3)]\n",
    "    elif categoria == 'Ferreteria': \n",
    "        return proveedores_ferreteria[randint(0,3)]\n",
    "    elif categoria == 'Zapatos': \n",
    "        return proveedores_zapatos[randint(0,3)]\n",
    "        "
   ]
  },
  {
   "cell_type": "code",
   "execution_count": 41,
   "metadata": {},
   "outputs": [
    {
     "data": {
      "text/plain": [
       "'Crocs'"
      ]
     },
     "execution_count": 41,
     "metadata": {},
     "output_type": "execute_result"
    }
   ],
   "source": [
    " proveedores ('Zapatos')\n",
    " \n"
   ]
  },
  {
   "cell_type": "code",
   "execution_count": 42,
   "metadata": {},
   "outputs": [],
   "source": [
    "df2['proveedores'] = df2['categorias']"
   ]
  },
  {
   "cell_type": "code",
   "execution_count": 43,
   "metadata": {},
   "outputs": [
    {
     "data": {
      "text/html": [
       "<div>\n",
       "<style scoped>\n",
       "    .dataframe tbody tr th:only-of-type {\n",
       "        vertical-align: middle;\n",
       "    }\n",
       "\n",
       "    .dataframe tbody tr th {\n",
       "        vertical-align: top;\n",
       "    }\n",
       "\n",
       "    .dataframe thead th {\n",
       "        text-align: right;\n",
       "    }\n",
       "</style>\n",
       "<table border=\"1\" class=\"dataframe\">\n",
       "  <thead>\n",
       "    <tr style=\"text-align: right;\">\n",
       "      <th></th>\n",
       "      <th>usuario</th>\n",
       "      <th>categorias</th>\n",
       "      <th>numero_articulos</th>\n",
       "      <th>fecha</th>\n",
       "      <th>precio</th>\n",
       "      <th>valoracion</th>\n",
       "      <th>comentarios</th>\n",
       "      <th>proveedores</th>\n",
       "    </tr>\n",
       "  </thead>\n",
       "  <tbody>\n",
       "    <tr>\n",
       "      <th>0</th>\n",
       "      <td>92</td>\n",
       "      <td>Baño</td>\n",
       "      <td>8</td>\n",
       "      <td>2019-03-27 21:08:33.786039</td>\n",
       "      <td>343.53</td>\n",
       "      <td>0.5</td>\n",
       "      <td>no llego el producto</td>\n",
       "      <td>Baño</td>\n",
       "    </tr>\n",
       "    <tr>\n",
       "      <th>1</th>\n",
       "      <td>265</td>\n",
       "      <td>Baño</td>\n",
       "      <td>6</td>\n",
       "      <td>2019-08-08 15:19:19.873440</td>\n",
       "      <td>78.43</td>\n",
       "      <td>3.7</td>\n",
       "      <td>justo lo que esperaba</td>\n",
       "      <td>Baño</td>\n",
       "    </tr>\n",
       "    <tr>\n",
       "      <th>2</th>\n",
       "      <td>106</td>\n",
       "      <td>Baño</td>\n",
       "      <td>7</td>\n",
       "      <td>2020-11-10 18:56:30.101786</td>\n",
       "      <td>446.09</td>\n",
       "      <td>2.4</td>\n",
       "      <td>no llego en tiempo</td>\n",
       "      <td>Baño</td>\n",
       "    </tr>\n",
       "    <tr>\n",
       "      <th>3</th>\n",
       "      <td>24</td>\n",
       "      <td>Deporte</td>\n",
       "      <td>1</td>\n",
       "      <td>2020-08-28 10:26:59.585523</td>\n",
       "      <td>201.92</td>\n",
       "      <td>4.6</td>\n",
       "      <td>justo lo que esperaba</td>\n",
       "      <td>Deporte</td>\n",
       "    </tr>\n",
       "    <tr>\n",
       "      <th>4</th>\n",
       "      <td>214</td>\n",
       "      <td>Electronica</td>\n",
       "      <td>8</td>\n",
       "      <td>2020-06-24 08:37:07.365533</td>\n",
       "      <td>242.89</td>\n",
       "      <td>4.8</td>\n",
       "      <td>buena relacion calidad-precio</td>\n",
       "      <td>Electronica</td>\n",
       "    </tr>\n",
       "  </tbody>\n",
       "</table>\n",
       "</div>"
      ],
      "text/plain": [
       "   usuario   categorias  numero_articulos                      fecha  precio  \\\n",
       "0       92         Baño                 8 2019-03-27 21:08:33.786039  343.53   \n",
       "1      265         Baño                 6 2019-08-08 15:19:19.873440   78.43   \n",
       "2      106         Baño                 7 2020-11-10 18:56:30.101786  446.09   \n",
       "3       24      Deporte                 1 2020-08-28 10:26:59.585523  201.92   \n",
       "4      214  Electronica                 8 2020-06-24 08:37:07.365533  242.89   \n",
       "\n",
       "   valoracion                    comentarios  proveedores  \n",
       "0         0.5           no llego el producto         Baño  \n",
       "1         3.7          justo lo que esperaba         Baño  \n",
       "2         2.4             no llego en tiempo         Baño  \n",
       "3         4.6          justo lo que esperaba      Deporte  \n",
       "4         4.8  buena relacion calidad-precio  Electronica  "
      ]
     },
     "execution_count": 43,
     "metadata": {},
     "output_type": "execute_result"
    }
   ],
   "source": [
    "df2.head()"
   ]
  },
  {
   "cell_type": "code",
   "execution_count": 44,
   "metadata": {},
   "outputs": [],
   "source": [
    "df2['proveedores'] = df2['proveedores'].apply(proveedores)"
   ]
  },
  {
   "cell_type": "code",
   "execution_count": 45,
   "metadata": {},
   "outputs": [
    {
     "name": "stdout",
     "output_type": "stream",
     "text": [
      "<class 'pandas.core.frame.DataFrame'>\n",
      "RangeIndex: 10000 entries, 0 to 9999\n",
      "Data columns (total 8 columns):\n",
      " #   Column            Non-Null Count  Dtype         \n",
      "---  ------            --------------  -----         \n",
      " 0   usuario           10000 non-null  int64         \n",
      " 1   categorias        10000 non-null  object        \n",
      " 2   numero_articulos  10000 non-null  int64         \n",
      " 3   fecha             10000 non-null  datetime64[ns]\n",
      " 4   precio            10000 non-null  float64       \n",
      " 5   valoracion        10000 non-null  float64       \n",
      " 6   comentarios       10000 non-null  object        \n",
      " 7   proveedores       10000 non-null  object        \n",
      "dtypes: datetime64[ns](1), float64(2), int64(2), object(3)\n",
      "memory usage: 625.1+ KB\n"
     ]
    }
   ],
   "source": [
    "df2.info()"
   ]
  },
  {
   "cell_type": "code",
   "execution_count": 47,
   "metadata": {},
   "outputs": [
    {
     "data": {
      "text/html": [
       "<div>\n",
       "<style scoped>\n",
       "    .dataframe tbody tr th:only-of-type {\n",
       "        vertical-align: middle;\n",
       "    }\n",
       "\n",
       "    .dataframe tbody tr th {\n",
       "        vertical-align: top;\n",
       "    }\n",
       "\n",
       "    .dataframe thead th {\n",
       "        text-align: right;\n",
       "    }\n",
       "</style>\n",
       "<table border=\"1\" class=\"dataframe\">\n",
       "  <thead>\n",
       "    <tr style=\"text-align: right;\">\n",
       "      <th></th>\n",
       "      <th>usuario</th>\n",
       "      <th>categorias</th>\n",
       "      <th>numero_articulos</th>\n",
       "      <th>fecha</th>\n",
       "      <th>precio</th>\n",
       "      <th>valoracion</th>\n",
       "      <th>comentarios</th>\n",
       "      <th>proveedores</th>\n",
       "    </tr>\n",
       "  </thead>\n",
       "  <tbody>\n",
       "    <tr>\n",
       "      <th>0</th>\n",
       "      <td>92</td>\n",
       "      <td>Baño</td>\n",
       "      <td>8</td>\n",
       "      <td>2019-03-27 21:08:33.786039</td>\n",
       "      <td>343.53</td>\n",
       "      <td>0.5</td>\n",
       "      <td>no llego el producto</td>\n",
       "      <td>KH7</td>\n",
       "    </tr>\n",
       "    <tr>\n",
       "      <th>1</th>\n",
       "      <td>265</td>\n",
       "      <td>Baño</td>\n",
       "      <td>6</td>\n",
       "      <td>2019-08-08 15:19:19.873440</td>\n",
       "      <td>78.43</td>\n",
       "      <td>3.7</td>\n",
       "      <td>justo lo que esperaba</td>\n",
       "      <td>KH7</td>\n",
       "    </tr>\n",
       "    <tr>\n",
       "      <th>2</th>\n",
       "      <td>106</td>\n",
       "      <td>Baño</td>\n",
       "      <td>7</td>\n",
       "      <td>2020-11-10 18:56:30.101786</td>\n",
       "      <td>446.09</td>\n",
       "      <td>2.4</td>\n",
       "      <td>no llego en tiempo</td>\n",
       "      <td>Cristasol</td>\n",
       "    </tr>\n",
       "  </tbody>\n",
       "</table>\n",
       "</div>"
      ],
      "text/plain": [
       "   usuario categorias  numero_articulos                      fecha  precio  \\\n",
       "0       92       Baño                 8 2019-03-27 21:08:33.786039  343.53   \n",
       "1      265       Baño                 6 2019-08-08 15:19:19.873440   78.43   \n",
       "2      106       Baño                 7 2020-11-10 18:56:30.101786  446.09   \n",
       "\n",
       "   valoracion            comentarios proveedores  \n",
       "0         0.5   no llego el producto         KH7  \n",
       "1         3.7  justo lo que esperaba         KH7  \n",
       "2         2.4     no llego en tiempo   Cristasol  "
      ]
     },
     "execution_count": 47,
     "metadata": {},
     "output_type": "execute_result"
    }
   ],
   "source": [
    "\n",
    "df2.head(3)"
   ]
  },
  {
   "cell_type": "code",
   "execution_count": 48,
   "metadata": {},
   "outputs": [],
   "source": [
    "df2.to_csv('sales_data.csv', index = False)"
   ]
  },
  {
   "cell_type": "code",
   "execution_count": 49,
   "metadata": {},
   "outputs": [
    {
     "data": {
      "text/html": [
       "<div>\n",
       "<style scoped>\n",
       "    .dataframe tbody tr th:only-of-type {\n",
       "        vertical-align: middle;\n",
       "    }\n",
       "\n",
       "    .dataframe tbody tr th {\n",
       "        vertical-align: top;\n",
       "    }\n",
       "\n",
       "    .dataframe thead th {\n",
       "        text-align: right;\n",
       "    }\n",
       "</style>\n",
       "<table border=\"1\" class=\"dataframe\">\n",
       "  <thead>\n",
       "    <tr style=\"text-align: right;\">\n",
       "      <th></th>\n",
       "      <th>usuario</th>\n",
       "      <th>categorias</th>\n",
       "      <th>numero_articulos</th>\n",
       "      <th>fecha</th>\n",
       "      <th>precio</th>\n",
       "      <th>valoracion</th>\n",
       "      <th>comentarios</th>\n",
       "      <th>proveedores</th>\n",
       "    </tr>\n",
       "  </thead>\n",
       "  <tbody>\n",
       "    <tr>\n",
       "      <th>0</th>\n",
       "      <td>92</td>\n",
       "      <td>Baño</td>\n",
       "      <td>8</td>\n",
       "      <td>2019-03-27 21:08:33.786039</td>\n",
       "      <td>343.53</td>\n",
       "      <td>0.5</td>\n",
       "      <td>no llego el producto</td>\n",
       "      <td>KH7</td>\n",
       "    </tr>\n",
       "    <tr>\n",
       "      <th>1</th>\n",
       "      <td>265</td>\n",
       "      <td>Baño</td>\n",
       "      <td>6</td>\n",
       "      <td>2019-08-08 15:19:19.873440</td>\n",
       "      <td>78.43</td>\n",
       "      <td>3.7</td>\n",
       "      <td>justo lo que esperaba</td>\n",
       "      <td>KH7</td>\n",
       "    </tr>\n",
       "    <tr>\n",
       "      <th>2</th>\n",
       "      <td>106</td>\n",
       "      <td>Baño</td>\n",
       "      <td>7</td>\n",
       "      <td>2020-11-10 18:56:30.101786</td>\n",
       "      <td>446.09</td>\n",
       "      <td>2.4</td>\n",
       "      <td>no llego en tiempo</td>\n",
       "      <td>Cristasol</td>\n",
       "    </tr>\n",
       "  </tbody>\n",
       "</table>\n",
       "</div>"
      ],
      "text/plain": [
       "   usuario categorias  numero_articulos                      fecha  precio  \\\n",
       "0       92       Baño                 8 2019-03-27 21:08:33.786039  343.53   \n",
       "1      265       Baño                 6 2019-08-08 15:19:19.873440   78.43   \n",
       "2      106       Baño                 7 2020-11-10 18:56:30.101786  446.09   \n",
       "\n",
       "   valoracion            comentarios proveedores  \n",
       "0         0.5   no llego el producto         KH7  \n",
       "1         3.7  justo lo que esperaba         KH7  \n",
       "2         2.4     no llego en tiempo   Cristasol  "
      ]
     },
     "execution_count": 49,
     "metadata": {},
     "output_type": "execute_result"
    }
   ],
   "source": [
    "df2.head(3)"
   ]
  },
  {
   "cell_type": "code",
   "execution_count": 51,
   "metadata": {},
   "outputs": [
    {
     "data": {
      "text/html": [
       "<div>\n",
       "<style scoped>\n",
       "    .dataframe tbody tr th:only-of-type {\n",
       "        vertical-align: middle;\n",
       "    }\n",
       "\n",
       "    .dataframe tbody tr th {\n",
       "        vertical-align: top;\n",
       "    }\n",
       "\n",
       "    .dataframe thead th {\n",
       "        text-align: right;\n",
       "    }\n",
       "</style>\n",
       "<table border=\"1\" class=\"dataframe\">\n",
       "  <thead>\n",
       "    <tr style=\"text-align: right;\">\n",
       "      <th></th>\n",
       "      <th>usuario</th>\n",
       "      <th>genero</th>\n",
       "      <th>edad</th>\n",
       "      <th>ciudad</th>\n",
       "      <th>gasto_mes</th>\n",
       "      <th>miembro_plus</th>\n",
       "      <th>dispositivo</th>\n",
       "      <th>tiempo_mes</th>\n",
       "    </tr>\n",
       "  </thead>\n",
       "  <tbody>\n",
       "    <tr>\n",
       "      <th>0</th>\n",
       "      <td>1</td>\n",
       "      <td>Mujer</td>\n",
       "      <td>21</td>\n",
       "      <td>Valladolid</td>\n",
       "      <td>483.81</td>\n",
       "      <td>0</td>\n",
       "      <td>PC</td>\n",
       "      <td>3.30</td>\n",
       "    </tr>\n",
       "    <tr>\n",
       "      <th>1</th>\n",
       "      <td>2</td>\n",
       "      <td>Mujer</td>\n",
       "      <td>45</td>\n",
       "      <td>Valladolid</td>\n",
       "      <td>186.30</td>\n",
       "      <td>1</td>\n",
       "      <td>PC</td>\n",
       "      <td>6.60</td>\n",
       "    </tr>\n",
       "    <tr>\n",
       "      <th>2</th>\n",
       "      <td>3</td>\n",
       "      <td>Mujer</td>\n",
       "      <td>64</td>\n",
       "      <td>Murcia</td>\n",
       "      <td>396.03</td>\n",
       "      <td>0</td>\n",
       "      <td>PC</td>\n",
       "      <td>2.09</td>\n",
       "    </tr>\n",
       "  </tbody>\n",
       "</table>\n",
       "</div>"
      ],
      "text/plain": [
       "   usuario genero  edad      ciudad  gasto_mes  miembro_plus dispositivo  \\\n",
       "0        1  Mujer    21  Valladolid     483.81             0          PC   \n",
       "1        2  Mujer    45  Valladolid     186.30             1          PC   \n",
       "2        3  Mujer    64      Murcia     396.03             0          PC   \n",
       "\n",
       "   tiempo_mes  \n",
       "0        3.30  \n",
       "1        6.60  \n",
       "2        2.09  "
      ]
     },
     "execution_count": 51,
     "metadata": {},
     "output_type": "execute_result"
    }
   ],
   "source": [
    "df0.head(3)"
   ]
  },
  {
   "cell_type": "code",
   "execution_count": 52,
   "metadata": {},
   "outputs": [],
   "source": [
    "df_city = df0[['usuario', 'ciudad']]"
   ]
  },
  {
   "cell_type": "code",
   "execution_count": 53,
   "metadata": {},
   "outputs": [
    {
     "data": {
      "text/html": [
       "<div>\n",
       "<style scoped>\n",
       "    .dataframe tbody tr th:only-of-type {\n",
       "        vertical-align: middle;\n",
       "    }\n",
       "\n",
       "    .dataframe tbody tr th {\n",
       "        vertical-align: top;\n",
       "    }\n",
       "\n",
       "    .dataframe thead th {\n",
       "        text-align: right;\n",
       "    }\n",
       "</style>\n",
       "<table border=\"1\" class=\"dataframe\">\n",
       "  <thead>\n",
       "    <tr style=\"text-align: right;\">\n",
       "      <th></th>\n",
       "      <th>usuario</th>\n",
       "      <th>ciudad</th>\n",
       "    </tr>\n",
       "  </thead>\n",
       "  <tbody>\n",
       "    <tr>\n",
       "      <th>0</th>\n",
       "      <td>1</td>\n",
       "      <td>Valladolid</td>\n",
       "    </tr>\n",
       "    <tr>\n",
       "      <th>1</th>\n",
       "      <td>2</td>\n",
       "      <td>Valladolid</td>\n",
       "    </tr>\n",
       "    <tr>\n",
       "      <th>2</th>\n",
       "      <td>3</td>\n",
       "      <td>Murcia</td>\n",
       "    </tr>\n",
       "  </tbody>\n",
       "</table>\n",
       "</div>"
      ],
      "text/plain": [
       "   usuario      ciudad\n",
       "0        1  Valladolid\n",
       "1        2  Valladolid\n",
       "2        3      Murcia"
      ]
     },
     "execution_count": 53,
     "metadata": {},
     "output_type": "execute_result"
    }
   ],
   "source": [
    "df_city.head(3)"
   ]
  },
  {
   "cell_type": "code",
   "execution_count": 54,
   "metadata": {},
   "outputs": [],
   "source": [
    "lista_columnas_df2 = df2.columns.to_list()"
   ]
  },
  {
   "cell_type": "code",
   "execution_count": 55,
   "metadata": {},
   "outputs": [],
   "source": [
    "del lista_columnas_df2 [4:7]\n"
   ]
  },
  {
   "cell_type": "code",
   "execution_count": 56,
   "metadata": {},
   "outputs": [],
   "source": [
    "#usuario, fecha, categoria,  numero de artículos, proveedores "
   ]
  },
  {
   "cell_type": "code",
   "execution_count": 57,
   "metadata": {},
   "outputs": [
    {
     "name": "stdout",
     "output_type": "stream",
     "text": [
      "['usuario', 'categorias', 'numero_articulos', 'fecha', 'proveedores']\n"
     ]
    }
   ],
   "source": [
    "print (lista_columnas_df2)"
   ]
  },
  {
   "cell_type": "code",
   "execution_count": 58,
   "metadata": {},
   "outputs": [],
   "source": [
    "df_users = df2[lista_columnas_df2]"
   ]
  },
  {
   "cell_type": "code",
   "execution_count": 61,
   "metadata": {},
   "outputs": [
    {
     "data": {
      "text/html": [
       "<div>\n",
       "<style scoped>\n",
       "    .dataframe tbody tr th:only-of-type {\n",
       "        vertical-align: middle;\n",
       "    }\n",
       "\n",
       "    .dataframe tbody tr th {\n",
       "        vertical-align: top;\n",
       "    }\n",
       "\n",
       "    .dataframe thead th {\n",
       "        text-align: right;\n",
       "    }\n",
       "</style>\n",
       "<table border=\"1\" class=\"dataframe\">\n",
       "  <thead>\n",
       "    <tr style=\"text-align: right;\">\n",
       "      <th></th>\n",
       "      <th>usuario</th>\n",
       "      <th>categorias</th>\n",
       "      <th>numero_articulos</th>\n",
       "      <th>fecha</th>\n",
       "      <th>proveedores</th>\n",
       "    </tr>\n",
       "  </thead>\n",
       "  <tbody>\n",
       "    <tr>\n",
       "      <th>0</th>\n",
       "      <td>92</td>\n",
       "      <td>Baño</td>\n",
       "      <td>8</td>\n",
       "      <td>2019-03-27 21:08:33.786039</td>\n",
       "      <td>KH7</td>\n",
       "    </tr>\n",
       "    <tr>\n",
       "      <th>1</th>\n",
       "      <td>265</td>\n",
       "      <td>Baño</td>\n",
       "      <td>6</td>\n",
       "      <td>2019-08-08 15:19:19.873440</td>\n",
       "      <td>KH7</td>\n",
       "    </tr>\n",
       "    <tr>\n",
       "      <th>2</th>\n",
       "      <td>106</td>\n",
       "      <td>Baño</td>\n",
       "      <td>7</td>\n",
       "      <td>2020-11-10 18:56:30.101786</td>\n",
       "      <td>Cristasol</td>\n",
       "    </tr>\n",
       "  </tbody>\n",
       "</table>\n",
       "</div>"
      ],
      "text/plain": [
       "   usuario categorias  numero_articulos                      fecha proveedores\n",
       "0       92       Baño                 8 2019-03-27 21:08:33.786039         KH7\n",
       "1      265       Baño                 6 2019-08-08 15:19:19.873440         KH7\n",
       "2      106       Baño                 7 2020-11-10 18:56:30.101786   Cristasol"
      ]
     },
     "execution_count": 61,
     "metadata": {},
     "output_type": "execute_result"
    }
   ],
   "source": [
    "df_users.head(3)"
   ]
  },
  {
   "cell_type": "code",
   "execution_count": 62,
   "metadata": {},
   "outputs": [],
   "source": [
    "df_union = df_users.set_index('usuario').join(df_city.set_index('usuario'))"
   ]
  },
  {
   "cell_type": "code",
   "execution_count": 63,
   "metadata": {},
   "outputs": [
    {
     "data": {
      "text/html": [
       "<div>\n",
       "<style scoped>\n",
       "    .dataframe tbody tr th:only-of-type {\n",
       "        vertical-align: middle;\n",
       "    }\n",
       "\n",
       "    .dataframe tbody tr th {\n",
       "        vertical-align: top;\n",
       "    }\n",
       "\n",
       "    .dataframe thead th {\n",
       "        text-align: right;\n",
       "    }\n",
       "</style>\n",
       "<table border=\"1\" class=\"dataframe\">\n",
       "  <thead>\n",
       "    <tr style=\"text-align: right;\">\n",
       "      <th></th>\n",
       "      <th>categorias</th>\n",
       "      <th>numero_articulos</th>\n",
       "      <th>fecha</th>\n",
       "      <th>proveedores</th>\n",
       "      <th>ciudad</th>\n",
       "    </tr>\n",
       "    <tr>\n",
       "      <th>usuario</th>\n",
       "      <th></th>\n",
       "      <th></th>\n",
       "      <th></th>\n",
       "      <th></th>\n",
       "      <th></th>\n",
       "    </tr>\n",
       "  </thead>\n",
       "  <tbody>\n",
       "    <tr>\n",
       "      <th>1</th>\n",
       "      <td>Cocina</td>\n",
       "      <td>2</td>\n",
       "      <td>2019-11-30 13:17:43.023114</td>\n",
       "      <td>Flora</td>\n",
       "      <td>Valladolid</td>\n",
       "    </tr>\n",
       "    <tr>\n",
       "      <th>1</th>\n",
       "      <td>Baño</td>\n",
       "      <td>6</td>\n",
       "      <td>2020-07-07 16:23:03.531212</td>\n",
       "      <td>Don limpio</td>\n",
       "      <td>Valladolid</td>\n",
       "    </tr>\n",
       "    <tr>\n",
       "      <th>1</th>\n",
       "      <td>Baño</td>\n",
       "      <td>6</td>\n",
       "      <td>2019-01-09 10:04:02.121072</td>\n",
       "      <td>Cristasol</td>\n",
       "      <td>Valladolid</td>\n",
       "    </tr>\n",
       "  </tbody>\n",
       "</table>\n",
       "</div>"
      ],
      "text/plain": [
       "        categorias  numero_articulos                      fecha proveedores  \\\n",
       "usuario                                                                       \n",
       "1           Cocina                 2 2019-11-30 13:17:43.023114       Flora   \n",
       "1             Baño                 6 2020-07-07 16:23:03.531212  Don limpio   \n",
       "1             Baño                 6 2019-01-09 10:04:02.121072   Cristasol   \n",
       "\n",
       "             ciudad  \n",
       "usuario              \n",
       "1        Valladolid  \n",
       "1        Valladolid  \n",
       "1        Valladolid  "
      ]
     },
     "execution_count": 63,
     "metadata": {},
     "output_type": "execute_result"
    }
   ],
   "source": [
    "df_union.head(3)"
   ]
  },
  {
   "cell_type": "code",
   "execution_count": 92,
   "metadata": {},
   "outputs": [],
   "source": [
    "# Index reset\n",
    "df3 = df_union.reset_index()"
   ]
  },
  {
   "cell_type": "code",
   "execution_count": 195,
   "metadata": {},
   "outputs": [],
   "source": [
    "#Ahorrar en transporte: predicción de ventas por categoria segun ciudad y época del año "
   ]
  },
  {
   "cell_type": "code",
   "execution_count": 93,
   "metadata": {},
   "outputs": [
    {
     "data": {
      "text/html": [
       "<div>\n",
       "<style scoped>\n",
       "    .dataframe tbody tr th:only-of-type {\n",
       "        vertical-align: middle;\n",
       "    }\n",
       "\n",
       "    .dataframe tbody tr th {\n",
       "        vertical-align: top;\n",
       "    }\n",
       "\n",
       "    .dataframe thead th {\n",
       "        text-align: right;\n",
       "    }\n",
       "</style>\n",
       "<table border=\"1\" class=\"dataframe\">\n",
       "  <thead>\n",
       "    <tr style=\"text-align: right;\">\n",
       "      <th></th>\n",
       "      <th>usuario</th>\n",
       "      <th>categorias</th>\n",
       "      <th>numero_articulos</th>\n",
       "      <th>fecha</th>\n",
       "      <th>proveedores</th>\n",
       "      <th>ciudad</th>\n",
       "    </tr>\n",
       "  </thead>\n",
       "  <tbody>\n",
       "    <tr>\n",
       "      <th>0</th>\n",
       "      <td>1</td>\n",
       "      <td>Cocina</td>\n",
       "      <td>2</td>\n",
       "      <td>2019-11-30 13:17:43.023114</td>\n",
       "      <td>Flora</td>\n",
       "      <td>Valladolid</td>\n",
       "    </tr>\n",
       "    <tr>\n",
       "      <th>1</th>\n",
       "      <td>1</td>\n",
       "      <td>Baño</td>\n",
       "      <td>6</td>\n",
       "      <td>2020-07-07 16:23:03.531212</td>\n",
       "      <td>Don limpio</td>\n",
       "      <td>Valladolid</td>\n",
       "    </tr>\n",
       "    <tr>\n",
       "      <th>2</th>\n",
       "      <td>1</td>\n",
       "      <td>Baño</td>\n",
       "      <td>6</td>\n",
       "      <td>2019-01-09 10:04:02.121072</td>\n",
       "      <td>Cristasol</td>\n",
       "      <td>Valladolid</td>\n",
       "    </tr>\n",
       "  </tbody>\n",
       "</table>\n",
       "</div>"
      ],
      "text/plain": [
       "   usuario categorias  numero_articulos                      fecha  \\\n",
       "0        1     Cocina                 2 2019-11-30 13:17:43.023114   \n",
       "1        1       Baño                 6 2020-07-07 16:23:03.531212   \n",
       "2        1       Baño                 6 2019-01-09 10:04:02.121072   \n",
       "\n",
       "  proveedores      ciudad  \n",
       "0       Flora  Valladolid  \n",
       "1  Don limpio  Valladolid  \n",
       "2   Cristasol  Valladolid  "
      ]
     },
     "execution_count": 93,
     "metadata": {},
     "output_type": "execute_result"
    }
   ],
   "source": [
    "df3.head(3)"
   ]
  },
  {
   "cell_type": "code",
   "execution_count": 94,
   "metadata": {},
   "outputs": [
    {
     "name": "stdout",
     "output_type": "stream",
     "text": [
      "<class 'pandas.core.frame.DataFrame'>\n",
      "RangeIndex: 10000 entries, 0 to 9999\n",
      "Data columns (total 6 columns):\n",
      " #   Column            Non-Null Count  Dtype         \n",
      "---  ------            --------------  -----         \n",
      " 0   usuario           10000 non-null  int64         \n",
      " 1   categorias        10000 non-null  object        \n",
      " 2   numero_articulos  10000 non-null  int64         \n",
      " 3   fecha             10000 non-null  datetime64[ns]\n",
      " 4   proveedores       10000 non-null  object        \n",
      " 5   ciudad            10000 non-null  object        \n",
      "dtypes: datetime64[ns](1), int64(2), object(3)\n",
      "memory usage: 468.9+ KB\n"
     ]
    }
   ],
   "source": [
    "df3.info()"
   ]
  },
  {
   "cell_type": "code",
   "execution_count": 87,
   "metadata": {},
   "outputs": [],
   "source": [
    "# Define the date format\n",
    "df3['fecha'] = df3['fecha'].dt.strftime(\"%Y/%m/%d\")"
   ]
  },
  {
   "cell_type": "code",
   "execution_count": 88,
   "metadata": {},
   "outputs": [
    {
     "data": {
      "text/html": [
       "<div>\n",
       "<style scoped>\n",
       "    .dataframe tbody tr th:only-of-type {\n",
       "        vertical-align: middle;\n",
       "    }\n",
       "\n",
       "    .dataframe tbody tr th {\n",
       "        vertical-align: top;\n",
       "    }\n",
       "\n",
       "    .dataframe thead th {\n",
       "        text-align: right;\n",
       "    }\n",
       "</style>\n",
       "<table border=\"1\" class=\"dataframe\">\n",
       "  <thead>\n",
       "    <tr style=\"text-align: right;\">\n",
       "      <th></th>\n",
       "      <th>usuario</th>\n",
       "      <th>categorias</th>\n",
       "      <th>numero_articulos</th>\n",
       "      <th>fecha</th>\n",
       "      <th>proveedores</th>\n",
       "      <th>ciudad</th>\n",
       "    </tr>\n",
       "  </thead>\n",
       "  <tbody>\n",
       "    <tr>\n",
       "      <th>0</th>\n",
       "      <td>1</td>\n",
       "      <td>Cocina</td>\n",
       "      <td>2</td>\n",
       "      <td>2019/11/30</td>\n",
       "      <td>Flora</td>\n",
       "      <td>Valladolid</td>\n",
       "    </tr>\n",
       "    <tr>\n",
       "      <th>1</th>\n",
       "      <td>1</td>\n",
       "      <td>Baño</td>\n",
       "      <td>6</td>\n",
       "      <td>2020/07/07</td>\n",
       "      <td>Don limpio</td>\n",
       "      <td>Valladolid</td>\n",
       "    </tr>\n",
       "    <tr>\n",
       "      <th>2</th>\n",
       "      <td>1</td>\n",
       "      <td>Baño</td>\n",
       "      <td>6</td>\n",
       "      <td>2019/01/09</td>\n",
       "      <td>Cristasol</td>\n",
       "      <td>Valladolid</td>\n",
       "    </tr>\n",
       "  </tbody>\n",
       "</table>\n",
       "</div>"
      ],
      "text/plain": [
       "   usuario categorias  numero_articulos       fecha proveedores      ciudad\n",
       "0        1     Cocina                 2  2019/11/30       Flora  Valladolid\n",
       "1        1       Baño                 6  2020/07/07  Don limpio  Valladolid\n",
       "2        1       Baño                 6  2019/01/09   Cristasol  Valladolid"
      ]
     },
     "execution_count": 88,
     "metadata": {},
     "output_type": "execute_result"
    }
   ],
   "source": [
    "df3.head(3)"
   ]
  },
  {
   "cell_type": "code",
   "execution_count": 68,
   "metadata": {},
   "outputs": [],
   "source": [
    "# Ahorrar en transporte: predicción de ventas por categoria segun ciudad y época del año "
   ]
  },
  {
   "cell_type": "markdown",
   "metadata": {},
   "source": [
    "### Definición de las temporadas\n",
    "\n",
    "* Primavera - De finales de marzo a finales de junio.\n",
    "* Verano – De finales de junio a finales de septiembre. ...\n",
    "* Otoño – De finales de septiembre a finales de diciembre. ...\n",
    "* Invierno – De finales de diciembre a finales de marzo."
   ]
  },
  {
   "cell_type": "code",
   "execution_count": 69,
   "metadata": {},
   "outputs": [],
   "source": [
    "def season (fecha):\n",
    "    \"\"\" \n",
    "    El formato para la fecha Año/Mes/Dia\n",
    "     \"\"\"\n",
    "    if (fecha in  pd.date_range(start='31/03/2019', end='29/06/2019')):\n",
    "        return 'Primavera'\n",
    "    elif fecha in  pd.date_range(start='31/03/2020', end='29/06/2020'):\n",
    "        return 'Primavera'\n",
    "    elif (fecha in  pd.date_range(start='30/06/2019', end='29/09/2019')):\n",
    "        return 'Verano'\n",
    "    elif (fecha in  pd.date_range(start='30/06/2020', end='29/09/2020')):\n",
    "        return 'Verano'\n",
    "    elif (fecha in  pd.date_range(start='30/09/2019', end='30/12/2019')):\n",
    "        return 'Otoño'\n",
    "    elif (fecha in  pd.date_range(start='30/10/2020', end='30/12/2020')):\n",
    "        return 'Otoño'\n",
    "    elif (fecha in  pd.date_range(start='31/12/2018', end='30/03/2019')):\n",
    "        return 'Invierno'\n",
    "    elif (fecha in  pd.date_range(start='31/12/2019', end='30/03/2020')):\n",
    "        return 'Invierno'\n",
    "    else: \n",
    "        return 'Fecha incorrecta'\n",
    "        \n"
   ]
  },
  {
   "cell_type": "code",
   "execution_count": 70,
   "metadata": {},
   "outputs": [
    {
     "data": {
      "text/plain": [
       "'Invierno'"
      ]
     },
     "execution_count": 70,
     "metadata": {},
     "output_type": "execute_result"
    }
   ],
   "source": [
    "season ('2020/03/01')"
   ]
  },
  {
   "cell_type": "code",
   "execution_count": 71,
   "metadata": {},
   "outputs": [],
   "source": [
    "df3['fecha'] = df3['fecha'].apply(season)"
   ]
  },
  {
   "cell_type": "code",
   "execution_count": 72,
   "metadata": {},
   "outputs": [
    {
     "data": {
      "text/html": [
       "<div>\n",
       "<style scoped>\n",
       "    .dataframe tbody tr th:only-of-type {\n",
       "        vertical-align: middle;\n",
       "    }\n",
       "\n",
       "    .dataframe tbody tr th {\n",
       "        vertical-align: top;\n",
       "    }\n",
       "\n",
       "    .dataframe thead th {\n",
       "        text-align: right;\n",
       "    }\n",
       "</style>\n",
       "<table border=\"1\" class=\"dataframe\">\n",
       "  <thead>\n",
       "    <tr style=\"text-align: right;\">\n",
       "      <th></th>\n",
       "      <th>usuario</th>\n",
       "      <th>categorias</th>\n",
       "      <th>numero_articulos</th>\n",
       "      <th>fecha</th>\n",
       "      <th>proveedores</th>\n",
       "      <th>ciudad</th>\n",
       "    </tr>\n",
       "  </thead>\n",
       "  <tbody>\n",
       "    <tr>\n",
       "      <th>0</th>\n",
       "      <td>1</td>\n",
       "      <td>Cocina</td>\n",
       "      <td>2</td>\n",
       "      <td>Otoño</td>\n",
       "      <td>Flora</td>\n",
       "      <td>Valladolid</td>\n",
       "    </tr>\n",
       "    <tr>\n",
       "      <th>1</th>\n",
       "      <td>1</td>\n",
       "      <td>Baño</td>\n",
       "      <td>6</td>\n",
       "      <td>Verano</td>\n",
       "      <td>Don limpio</td>\n",
       "      <td>Valladolid</td>\n",
       "    </tr>\n",
       "    <tr>\n",
       "      <th>2</th>\n",
       "      <td>1</td>\n",
       "      <td>Baño</td>\n",
       "      <td>6</td>\n",
       "      <td>Invierno</td>\n",
       "      <td>Cristasol</td>\n",
       "      <td>Valladolid</td>\n",
       "    </tr>\n",
       "  </tbody>\n",
       "</table>\n",
       "</div>"
      ],
      "text/plain": [
       "   usuario categorias  numero_articulos     fecha proveedores      ciudad\n",
       "0        1     Cocina                 2     Otoño       Flora  Valladolid\n",
       "1        1       Baño                 6    Verano  Don limpio  Valladolid\n",
       "2        1       Baño                 6  Invierno   Cristasol  Valladolid"
      ]
     },
     "execution_count": 72,
     "metadata": {},
     "output_type": "execute_result"
    }
   ],
   "source": [
    "df3.head(3)"
   ]
  },
  {
   "cell_type": "code",
   "execution_count": 226,
   "metadata": {},
   "outputs": [],
   "source": [
    "# Necesitamos reducir fechas para poder separar por estacion del año "
   ]
  },
  {
   "cell_type": "markdown",
   "metadata": {},
   "source": [
    "# INQUIETUDES BASICAS DE NEGOCIO: \n",
    "* 1- Sacar ciudad que mas vende \n",
    "* 2- Proveedores mas vendidos por ciudad\n",
    "* 3- Epoca del año con mas ingresos \n",
    "* 4- Total de ventas\n",
    "* 5- Proveedor con mejor valoracion \n",
    "* 6- Proveedores con menos ventas \n",
    "* 7- Wordcloud con comentarios \n",
    "\n",
    "OPCIONES DE TOTALIZACION:\n",
    "- SEGUN LA CIUDAD Y TEMPORADA SACAR LAS VENTAS POR PROVEEDOR TOTALIZANDO EL NUMERO DE ARTICULOS \n"
   ]
  },
  {
   "cell_type": "code",
   "execution_count": 73,
   "metadata": {},
   "outputs": [],
   "source": [
    "df_precio = df2[['usuario', 'precio']]"
   ]
  },
  {
   "cell_type": "code",
   "execution_count": 83,
   "metadata": {},
   "outputs": [
    {
     "name": "stdout",
     "output_type": "stream",
     "text": [
      "df precio: (10000, 2)\n",
      "df3: (10000, 6)\n"
     ]
    }
   ],
   "source": [
    "print(f'df precio: {df_precio.shape}')\n",
    "print(f'df3: {df3.shape}')"
   ]
  },
  {
   "cell_type": "code",
   "execution_count": 75,
   "metadata": {},
   "outputs": [],
   "source": [
    "# df_union = df_users.set_index('usuario').join(df_city.set_index('usuario'))\n",
    "df_season_price = df3.set_index('usuario').join(df_precio.set_index('usuario'))"
   ]
  },
  {
   "cell_type": "code",
   "execution_count": 80,
   "metadata": {},
   "outputs": [
    {
     "data": {
      "text/html": [
       "<div>\n",
       "<style scoped>\n",
       "    .dataframe tbody tr th:only-of-type {\n",
       "        vertical-align: middle;\n",
       "    }\n",
       "\n",
       "    .dataframe tbody tr th {\n",
       "        vertical-align: top;\n",
       "    }\n",
       "\n",
       "    .dataframe thead th {\n",
       "        text-align: right;\n",
       "    }\n",
       "</style>\n",
       "<table border=\"1\" class=\"dataframe\">\n",
       "  <thead>\n",
       "    <tr style=\"text-align: right;\">\n",
       "      <th></th>\n",
       "      <th>usuario</th>\n",
       "      <th>categorias</th>\n",
       "      <th>numero_articulos</th>\n",
       "      <th>fecha</th>\n",
       "      <th>proveedores</th>\n",
       "      <th>ciudad</th>\n",
       "      <th>precio</th>\n",
       "    </tr>\n",
       "  </thead>\n",
       "  <tbody>\n",
       "    <tr>\n",
       "      <th>0</th>\n",
       "      <td>1</td>\n",
       "      <td>Cocina</td>\n",
       "      <td>2</td>\n",
       "      <td>Otoño</td>\n",
       "      <td>Flora</td>\n",
       "      <td>Valladolid</td>\n",
       "      <td>112.28</td>\n",
       "    </tr>\n",
       "    <tr>\n",
       "      <th>1</th>\n",
       "      <td>1</td>\n",
       "      <td>Cocina</td>\n",
       "      <td>2</td>\n",
       "      <td>Otoño</td>\n",
       "      <td>Flora</td>\n",
       "      <td>Valladolid</td>\n",
       "      <td>479.51</td>\n",
       "    </tr>\n",
       "    <tr>\n",
       "      <th>2</th>\n",
       "      <td>1</td>\n",
       "      <td>Cocina</td>\n",
       "      <td>2</td>\n",
       "      <td>Otoño</td>\n",
       "      <td>Flora</td>\n",
       "      <td>Valladolid</td>\n",
       "      <td>459.00</td>\n",
       "    </tr>\n",
       "    <tr>\n",
       "      <th>3</th>\n",
       "      <td>1</td>\n",
       "      <td>Cocina</td>\n",
       "      <td>2</td>\n",
       "      <td>Otoño</td>\n",
       "      <td>Flora</td>\n",
       "      <td>Valladolid</td>\n",
       "      <td>435.76</td>\n",
       "    </tr>\n",
       "    <tr>\n",
       "      <th>4</th>\n",
       "      <td>1</td>\n",
       "      <td>Cocina</td>\n",
       "      <td>2</td>\n",
       "      <td>Otoño</td>\n",
       "      <td>Flora</td>\n",
       "      <td>Valladolid</td>\n",
       "      <td>410.19</td>\n",
       "    </tr>\n",
       "    <tr>\n",
       "      <th>...</th>\n",
       "      <td>...</td>\n",
       "      <td>...</td>\n",
       "      <td>...</td>\n",
       "      <td>...</td>\n",
       "      <td>...</td>\n",
       "      <td>...</td>\n",
       "      <td>...</td>\n",
       "    </tr>\n",
       "    <tr>\n",
       "      <th>209457</th>\n",
       "      <td>500</td>\n",
       "      <td>Ferreteria</td>\n",
       "      <td>4</td>\n",
       "      <td>Primavera</td>\n",
       "      <td>Pavco</td>\n",
       "      <td>Malaga</td>\n",
       "      <td>333.22</td>\n",
       "    </tr>\n",
       "    <tr>\n",
       "      <th>209458</th>\n",
       "      <td>500</td>\n",
       "      <td>Ferreteria</td>\n",
       "      <td>4</td>\n",
       "      <td>Primavera</td>\n",
       "      <td>Pavco</td>\n",
       "      <td>Malaga</td>\n",
       "      <td>154.53</td>\n",
       "    </tr>\n",
       "    <tr>\n",
       "      <th>209459</th>\n",
       "      <td>500</td>\n",
       "      <td>Ferreteria</td>\n",
       "      <td>4</td>\n",
       "      <td>Primavera</td>\n",
       "      <td>Pavco</td>\n",
       "      <td>Malaga</td>\n",
       "      <td>410.96</td>\n",
       "    </tr>\n",
       "    <tr>\n",
       "      <th>209460</th>\n",
       "      <td>500</td>\n",
       "      <td>Ferreteria</td>\n",
       "      <td>4</td>\n",
       "      <td>Primavera</td>\n",
       "      <td>Pavco</td>\n",
       "      <td>Malaga</td>\n",
       "      <td>196.86</td>\n",
       "    </tr>\n",
       "    <tr>\n",
       "      <th>209461</th>\n",
       "      <td>500</td>\n",
       "      <td>Ferreteria</td>\n",
       "      <td>4</td>\n",
       "      <td>Primavera</td>\n",
       "      <td>Pavco</td>\n",
       "      <td>Malaga</td>\n",
       "      <td>473.60</td>\n",
       "    </tr>\n",
       "  </tbody>\n",
       "</table>\n",
       "<p>209462 rows × 7 columns</p>\n",
       "</div>"
      ],
      "text/plain": [
       "        usuario  categorias  numero_articulos      fecha proveedores  \\\n",
       "0             1      Cocina                 2      Otoño       Flora   \n",
       "1             1      Cocina                 2      Otoño       Flora   \n",
       "2             1      Cocina                 2      Otoño       Flora   \n",
       "3             1      Cocina                 2      Otoño       Flora   \n",
       "4             1      Cocina                 2      Otoño       Flora   \n",
       "...         ...         ...               ...        ...         ...   \n",
       "209457      500  Ferreteria                 4  Primavera       Pavco   \n",
       "209458      500  Ferreteria                 4  Primavera       Pavco   \n",
       "209459      500  Ferreteria                 4  Primavera       Pavco   \n",
       "209460      500  Ferreteria                 4  Primavera       Pavco   \n",
       "209461      500  Ferreteria                 4  Primavera       Pavco   \n",
       "\n",
       "            ciudad  precio  \n",
       "0       Valladolid  112.28  \n",
       "1       Valladolid  479.51  \n",
       "2       Valladolid  459.00  \n",
       "3       Valladolid  435.76  \n",
       "4       Valladolid  410.19  \n",
       "...            ...     ...  \n",
       "209457      Malaga  333.22  \n",
       "209458      Malaga  154.53  \n",
       "209459      Malaga  410.96  \n",
       "209460      Malaga  196.86  \n",
       "209461      Malaga  473.60  \n",
       "\n",
       "[209462 rows x 7 columns]"
      ]
     },
     "execution_count": 80,
     "metadata": {},
     "output_type": "execute_result"
    }
   ],
   "source": [
    "df_season_price.reset_index()"
   ]
  },
  {
   "cell_type": "code",
   "execution_count": 79,
   "metadata": {},
   "outputs": [
    {
     "data": {
      "text/html": [
       "<div>\n",
       "<style scoped>\n",
       "    .dataframe tbody tr th:only-of-type {\n",
       "        vertical-align: middle;\n",
       "    }\n",
       "\n",
       "    .dataframe tbody tr th {\n",
       "        vertical-align: top;\n",
       "    }\n",
       "\n",
       "    .dataframe thead th {\n",
       "        text-align: right;\n",
       "    }\n",
       "</style>\n",
       "<table border=\"1\" class=\"dataframe\">\n",
       "  <thead>\n",
       "    <tr style=\"text-align: right;\">\n",
       "      <th></th>\n",
       "      <th>categorias</th>\n",
       "      <th>numero_articulos</th>\n",
       "      <th>fecha</th>\n",
       "      <th>proveedores</th>\n",
       "      <th>ciudad</th>\n",
       "      <th>precio</th>\n",
       "    </tr>\n",
       "    <tr>\n",
       "      <th>usuario</th>\n",
       "      <th></th>\n",
       "      <th></th>\n",
       "      <th></th>\n",
       "      <th></th>\n",
       "      <th></th>\n",
       "      <th></th>\n",
       "    </tr>\n",
       "  </thead>\n",
       "  <tbody>\n",
       "    <tr>\n",
       "      <th>1</th>\n",
       "      <td>Cocina</td>\n",
       "      <td>2</td>\n",
       "      <td>Otoño</td>\n",
       "      <td>Flora</td>\n",
       "      <td>Valladolid</td>\n",
       "      <td>112.28</td>\n",
       "    </tr>\n",
       "    <tr>\n",
       "      <th>1</th>\n",
       "      <td>Cocina</td>\n",
       "      <td>2</td>\n",
       "      <td>Otoño</td>\n",
       "      <td>Flora</td>\n",
       "      <td>Valladolid</td>\n",
       "      <td>479.51</td>\n",
       "    </tr>\n",
       "    <tr>\n",
       "      <th>1</th>\n",
       "      <td>Cocina</td>\n",
       "      <td>2</td>\n",
       "      <td>Otoño</td>\n",
       "      <td>Flora</td>\n",
       "      <td>Valladolid</td>\n",
       "      <td>459.00</td>\n",
       "    </tr>\n",
       "  </tbody>\n",
       "</table>\n",
       "</div>"
      ],
      "text/plain": [
       "        categorias  numero_articulos  fecha proveedores      ciudad  precio\n",
       "usuario                                                                    \n",
       "1           Cocina                 2  Otoño       Flora  Valladolid  112.28\n",
       "1           Cocina                 2  Otoño       Flora  Valladolid  479.51\n",
       "1           Cocina                 2  Otoño       Flora  Valladolid  459.00"
      ]
     },
     "execution_count": 79,
     "metadata": {},
     "output_type": "execute_result"
    }
   ],
   "source": [
    "df_season_price.head(3)"
   ]
  },
  {
   "cell_type": "code",
   "execution_count": 378,
   "metadata": {},
   "outputs": [
    {
     "data": {
      "text/html": [
       "<div>\n",
       "<style scoped>\n",
       "    .dataframe tbody tr th:only-of-type {\n",
       "        vertical-align: middle;\n",
       "    }\n",
       "\n",
       "    .dataframe tbody tr th {\n",
       "        vertical-align: top;\n",
       "    }\n",
       "\n",
       "    .dataframe thead th {\n",
       "        text-align: right;\n",
       "    }\n",
       "</style>\n",
       "<table border=\"1\" class=\"dataframe\">\n",
       "  <thead>\n",
       "    <tr style=\"text-align: right;\">\n",
       "      <th></th>\n",
       "      <th>Usuario</th>\n",
       "      <th>Categorias</th>\n",
       "      <th>Numero_articulos</th>\n",
       "      <th>Fecha</th>\n",
       "      <th>Precio</th>\n",
       "      <th>Valoracion</th>\n",
       "      <th>Comentarios</th>\n",
       "      <th>Proveedores</th>\n",
       "    </tr>\n",
       "  </thead>\n",
       "  <tbody>\n",
       "    <tr>\n",
       "      <th>0</th>\n",
       "      <td>191</td>\n",
       "      <td>Ropa</td>\n",
       "      <td>2</td>\n",
       "      <td>2019-06-24 10:07:19.246642</td>\n",
       "      <td>407.99</td>\n",
       "      <td>2.6</td>\n",
       "      <td>llego justo a tiempo</td>\n",
       "      <td>Levis</td>\n",
       "    </tr>\n",
       "    <tr>\n",
       "      <th>1</th>\n",
       "      <td>362</td>\n",
       "      <td>Accesorios</td>\n",
       "      <td>11</td>\n",
       "      <td>2020-06-11 21:21:23.973773</td>\n",
       "      <td>261.75</td>\n",
       "      <td>1.6</td>\n",
       "      <td>el paquete llego en mal estado</td>\n",
       "      <td>Bimba y Lola</td>\n",
       "    </tr>\n",
       "    <tr>\n",
       "      <th>2</th>\n",
       "      <td>266</td>\n",
       "      <td>Zapatos</td>\n",
       "      <td>4</td>\n",
       "      <td>2020-01-02 23:52:46.675819</td>\n",
       "      <td>57.55</td>\n",
       "      <td>1.0</td>\n",
       "      <td>no cumple las expectativas</td>\n",
       "      <td>New balance</td>\n",
       "    </tr>\n",
       "    <tr>\n",
       "      <th>3</th>\n",
       "      <td>436</td>\n",
       "      <td>Ropa</td>\n",
       "      <td>4</td>\n",
       "      <td>2020-07-28 06:56:23.275207</td>\n",
       "      <td>434.75</td>\n",
       "      <td>3.5</td>\n",
       "      <td>cumple las expectativas</td>\n",
       "      <td>Hollister</td>\n",
       "    </tr>\n",
       "    <tr>\n",
       "      <th>4</th>\n",
       "      <td>28</td>\n",
       "      <td>Electronica</td>\n",
       "      <td>5</td>\n",
       "      <td>2020-10-29 04:01:34.449135</td>\n",
       "      <td>54.40</td>\n",
       "      <td>2.1</td>\n",
       "      <td>la calidad no es la esperada</td>\n",
       "      <td>Apple</td>\n",
       "    </tr>\n",
       "  </tbody>\n",
       "</table>\n",
       "</div>"
      ],
      "text/plain": [
       "   Usuario   Categorias  Numero_articulos                      Fecha  Precio  \\\n",
       "0      191         Ropa                 2 2019-06-24 10:07:19.246642  407.99   \n",
       "1      362   Accesorios                11 2020-06-11 21:21:23.973773  261.75   \n",
       "2      266      Zapatos                 4 2020-01-02 23:52:46.675819   57.55   \n",
       "3      436         Ropa                 4 2020-07-28 06:56:23.275207  434.75   \n",
       "4       28  Electronica                 5 2020-10-29 04:01:34.449135   54.40   \n",
       "\n",
       "   Valoracion                     Comentarios   Proveedores  \n",
       "0         2.6            llego justo a tiempo         Levis  \n",
       "1         1.6  el paquete llego en mal estado  Bimba y Lola  \n",
       "2         1.0      no cumple las expectativas   New balance  \n",
       "3         3.5         cumple las expectativas     Hollister  \n",
       "4         2.1    la calidad no es la esperada         Apple  "
      ]
     },
     "execution_count": 378,
     "metadata": {},
     "output_type": "execute_result"
    }
   ],
   "source": [
    "df2.head()"
   ]
  },
  {
   "cell_type": "code",
   "execution_count": null,
   "metadata": {},
   "outputs": [],
   "source": []
  }
 ],
 "metadata": {
  "interpreter": {
   "hash": "dca0ade3e726a953b501b15e8e990130d2b7799f14cfd9f4271676035ebe5511"
  },
  "kernelspec": {
   "display_name": "Python 3.8.3 64-bit ('base': conda)",
   "name": "python3"
  },
  "language_info": {
   "codemirror_mode": {
    "name": "ipython",
    "version": 3
   },
   "file_extension": ".py",
   "mimetype": "text/x-python",
   "name": "python",
   "nbconvert_exporter": "python",
   "pygments_lexer": "ipython3",
   "version": "3.8.3"
  }
 },
 "nbformat": 4,
 "nbformat_minor": 4
}
